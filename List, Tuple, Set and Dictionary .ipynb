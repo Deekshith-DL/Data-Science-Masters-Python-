{
 "cells": [
  {
   "cell_type": "markdown",
   "id": "408189c1",
   "metadata": {},
   "source": [
    "# List"
   ]
  },
  {
   "cell_type": "markdown",
   "id": "7e34ec1e",
   "metadata": {},
   "source": [
    "Lists are used to store multiple items in a single variable.\n",
    "Lists are created using square brackets '[ ]':"
   ]
  },
  {
   "cell_type": "code",
   "execution_count": 1,
   "id": "ca1cac01",
   "metadata": {},
   "outputs": [
    {
     "name": "stdout",
     "output_type": "stream",
     "text": [
      "['Apple', 'Banana', 'Mango', 'Cherry']\n"
     ]
    }
   ],
   "source": [
    "lst=[\"Apple\",'Banana','Mango','Cherry']\n",
    "print(lst)"
   ]
  },
  {
   "cell_type": "markdown",
   "id": "ac0864e1",
   "metadata": {},
   "source": [
    "**List Items**\n",
    "List items are ordered, changeable, and allow duplicate values.\n",
    "\n",
    "List items are indexed, the first item has index [0], the second item has index [1] etc."
   ]
  },
  {
   "cell_type": "markdown",
   "id": "7f6c80c5",
   "metadata": {},
   "source": [
    "**The list is changeable, meaning that we can change, add, and remove items in a list after it has been created**"
   ]
  },
  {
   "cell_type": "code",
   "execution_count": 2,
   "id": "26a6db50",
   "metadata": {},
   "outputs": [
    {
     "data": {
      "text/plain": [
       "4"
      ]
     },
     "execution_count": 2,
     "metadata": {},
     "output_type": "execute_result"
    }
   ],
   "source": [
    "len(lst)"
   ]
  },
  {
   "cell_type": "code",
   "execution_count": 3,
   "id": "ea31fb30",
   "metadata": {},
   "outputs": [],
   "source": [
    "list1 = [\"abc\", 34, True, 40, \"male\"]"
   ]
  },
  {
   "cell_type": "code",
   "execution_count": 4,
   "id": "30af0371",
   "metadata": {},
   "outputs": [
    {
     "data": {
      "text/plain": [
       "list"
      ]
     },
     "execution_count": 4,
     "metadata": {},
     "output_type": "execute_result"
    }
   ],
   "source": [
    "type(list1)"
   ]
  },
  {
   "cell_type": "code",
   "execution_count": 2,
   "id": "76945845",
   "metadata": {},
   "outputs": [],
   "source": [
    "x= list(('hello','good','Bye'))"
   ]
  },
  {
   "cell_type": "code",
   "execution_count": 7,
   "id": "fa6508f8",
   "metadata": {},
   "outputs": [
    {
     "data": {
      "text/plain": [
       "['hello', 'good', 'Bye']"
      ]
     },
     "execution_count": 7,
     "metadata": {},
     "output_type": "execute_result"
    }
   ],
   "source": [
    "x"
   ]
  },
  {
   "cell_type": "markdown",
   "id": "7b6d2539",
   "metadata": {},
   "source": [
    "**Access Items**"
   ]
  },
  {
   "cell_type": "code",
   "execution_count": 9,
   "id": "f1a6d5c1",
   "metadata": {},
   "outputs": [
    {
     "data": {
      "text/plain": [
       "'Bye'"
      ]
     },
     "execution_count": 9,
     "metadata": {},
     "output_type": "execute_result"
    }
   ],
   "source": [
    "x[2]"
   ]
  },
  {
   "cell_type": "code",
   "execution_count": 12,
   "id": "a02b4ad2",
   "metadata": {},
   "outputs": [
    {
     "data": {
      "text/plain": [
       "['Apple', 'Banana']"
      ]
     },
     "execution_count": 12,
     "metadata": {},
     "output_type": "execute_result"
    }
   ],
   "source": [
    "lst[:2]"
   ]
  },
  {
   "cell_type": "markdown",
   "id": "736230f0",
   "metadata": {},
   "source": [
    "Negative indexing means start from the end\n",
    "\n",
    "-1 refers to the last item, -2 refers to the second last item etc."
   ]
  },
  {
   "cell_type": "code",
   "execution_count": 13,
   "id": "9db3b560",
   "metadata": {},
   "outputs": [
    {
     "data": {
      "text/plain": [
       "'Cherry'"
      ]
     },
     "execution_count": 13,
     "metadata": {},
     "output_type": "execute_result"
    }
   ],
   "source": [
    "lst[-1]"
   ]
  },
  {
   "cell_type": "code",
   "execution_count": 14,
   "id": "b6c7cb8d",
   "metadata": {},
   "outputs": [
    {
     "data": {
      "text/plain": [
       "['Apple', 'Banana', 'Mango', 'Cherry']"
      ]
     },
     "execution_count": 14,
     "metadata": {},
     "output_type": "execute_result"
    }
   ],
   "source": [
    "lst"
   ]
  },
  {
   "cell_type": "code",
   "execution_count": 15,
   "id": "6e0631f7",
   "metadata": {},
   "outputs": [
    {
     "data": {
      "text/plain": [
       "['Banana', 'Mango']"
      ]
     },
     "execution_count": 15,
     "metadata": {},
     "output_type": "execute_result"
    }
   ],
   "source": [
    "lst[1:3]"
   ]
  },
  {
   "cell_type": "code",
   "execution_count": 19,
   "id": "4d1d6fa5",
   "metadata": {},
   "outputs": [
    {
     "data": {
      "text/plain": [
       "['Mango']"
      ]
     },
     "execution_count": 19,
     "metadata": {},
     "output_type": "execute_result"
    }
   ],
   "source": [
    "lst[-2:3]"
   ]
  },
  {
   "cell_type": "code",
   "execution_count": 20,
   "id": "0584f228",
   "metadata": {},
   "outputs": [
    {
     "data": {
      "text/plain": [
       "['Apple', 'Banana', 'Mango']"
      ]
     },
     "execution_count": 20,
     "metadata": {},
     "output_type": "execute_result"
    }
   ],
   "source": [
    "lst[:3]"
   ]
  },
  {
   "cell_type": "code",
   "execution_count": 21,
   "id": "8e2c22e5",
   "metadata": {},
   "outputs": [
    {
     "data": {
      "text/plain": [
       "['Mango', 'Cherry']"
      ]
     },
     "execution_count": 21,
     "metadata": {},
     "output_type": "execute_result"
    }
   ],
   "source": [
    "lst[2:]"
   ]
  },
  {
   "cell_type": "code",
   "execution_count": 22,
   "id": "364e21fc",
   "metadata": {},
   "outputs": [
    {
     "data": {
      "text/plain": [
       "['Banana', 'Mango']"
      ]
     },
     "execution_count": 22,
     "metadata": {},
     "output_type": "execute_result"
    }
   ],
   "source": [
    "lst[-3:-1]"
   ]
  },
  {
   "cell_type": "code",
   "execution_count": 25,
   "id": "b4a0db3b",
   "metadata": {},
   "outputs": [
    {
     "name": "stdout",
     "output_type": "stream",
     "text": [
      "Mango is Present in list\n"
     ]
    }
   ],
   "source": [
    "if \"Mango\" in lst:\n",
    "    print(\"Mango is Present in list\")"
   ]
  },
  {
   "cell_type": "markdown",
   "id": "75b7b65f",
   "metadata": {},
   "source": [
    "**Change Item Value**\n",
    "To change the value of a specific item, refer to the index number:"
   ]
  },
  {
   "cell_type": "code",
   "execution_count": 28,
   "id": "b25039aa",
   "metadata": {},
   "outputs": [
    {
     "name": "stdout",
     "output_type": "stream",
     "text": [
      "['Apple', 'Banana', 'Mango', 'Cherry']\n"
     ]
    }
   ],
   "source": [
    "print(lst)"
   ]
  },
  {
   "cell_type": "code",
   "execution_count": 29,
   "id": "60ae582d",
   "metadata": {},
   "outputs": [],
   "source": [
    "lst[1]=\"Water_Melon\""
   ]
  },
  {
   "cell_type": "code",
   "execution_count": 30,
   "id": "70472091",
   "metadata": {},
   "outputs": [
    {
     "data": {
      "text/plain": [
       "['Apple', 'Water_Melon', 'Mango', 'Cherry']"
      ]
     },
     "execution_count": 30,
     "metadata": {},
     "output_type": "execute_result"
    }
   ],
   "source": [
    "lst"
   ]
  },
  {
   "cell_type": "code",
   "execution_count": 32,
   "id": "ee603673",
   "metadata": {},
   "outputs": [
    {
     "data": {
      "text/plain": [
       "1"
      ]
     },
     "execution_count": 32,
     "metadata": {},
     "output_type": "execute_result"
    }
   ],
   "source": [
    "lst.count(\"Apple\")"
   ]
  },
  {
   "cell_type": "code",
   "execution_count": 34,
   "id": "bce6cd8f",
   "metadata": {},
   "outputs": [],
   "source": [
    "# Changeing in Range(1,2)index\n",
    "\n",
    "lst[1:3]=[\"Jack_fruit\",\"Gauva\"]"
   ]
  },
  {
   "cell_type": "code",
   "execution_count": 35,
   "id": "4943a850",
   "metadata": {},
   "outputs": [
    {
     "data": {
      "text/plain": [
       "['Apple', 'Jack_fruit', 'Gauva', 'Cherry']"
      ]
     },
     "execution_count": 35,
     "metadata": {},
     "output_type": "execute_result"
    }
   ],
   "source": [
    "lst"
   ]
  },
  {
   "cell_type": "code",
   "execution_count": 36,
   "id": "f53a1808",
   "metadata": {},
   "outputs": [
    {
     "name": "stdout",
     "output_type": "stream",
     "text": [
      "['apple', 'blackcurrant', 'watermelon', 'cherry']\n"
     ]
    }
   ],
   "source": [
    "thislist = [\"apple\", \"banana\", \"cherry\"]\n",
    "thislist[1:2] = [\"blackcurrant\", \"watermelon\"]\n",
    "print(thislist)"
   ]
  },
  {
   "cell_type": "code",
   "execution_count": 37,
   "id": "64ace367",
   "metadata": {},
   "outputs": [
    {
     "name": "stdout",
     "output_type": "stream",
     "text": [
      "['apple', 'watermelon', 'cherry']\n"
     ]
    }
   ],
   "source": [
    "thislist[1:3] = [\"watermelon\"]\n",
    "print(thislist)"
   ]
  },
  {
   "cell_type": "markdown",
   "id": "3c8bcccf",
   "metadata": {},
   "source": [
    "**Insert Items**\n",
    "To insert a new list item, without replacing any of the existing values, we can use the insert() method.\n",
    "\n",
    "The insert() method inserts an item at the specified index:"
   ]
  },
  {
   "cell_type": "code",
   "execution_count": 38,
   "id": "28e300ef",
   "metadata": {},
   "outputs": [
    {
     "data": {
      "text/plain": [
       "['Apple', 'Jack_fruit', 'Gauva', 'Cherry']"
      ]
     },
     "execution_count": 38,
     "metadata": {},
     "output_type": "execute_result"
    }
   ],
   "source": [
    "lst"
   ]
  },
  {
   "cell_type": "code",
   "execution_count": 39,
   "id": "7d9e8423",
   "metadata": {},
   "outputs": [],
   "source": [
    "lst.insert(2,\"Pineapple\")"
   ]
  },
  {
   "cell_type": "code",
   "execution_count": 40,
   "id": "d271365f",
   "metadata": {},
   "outputs": [
    {
     "data": {
      "text/plain": [
       "['Apple', 'Jack_fruit', 'Pineapple', 'Gauva', 'Cherry']"
      ]
     },
     "execution_count": 40,
     "metadata": {},
     "output_type": "execute_result"
    }
   ],
   "source": [
    "lst"
   ]
  },
  {
   "cell_type": "code",
   "execution_count": 45,
   "id": "27a0fe94",
   "metadata": {},
   "outputs": [],
   "source": [
    "lst.insert(-1,\"Kiwi\")"
   ]
  },
  {
   "cell_type": "code",
   "execution_count": 42,
   "id": "689a715c",
   "metadata": {},
   "outputs": [
    {
     "data": {
      "text/plain": [
       "['Apple', 'Jack_fruit', 'Pineapple', 'Gauva', 'Kiwi', 'Cherry']"
      ]
     },
     "execution_count": 42,
     "metadata": {},
     "output_type": "execute_result"
    }
   ],
   "source": [
    "lst"
   ]
  },
  {
   "cell_type": "markdown",
   "id": "c4703564",
   "metadata": {},
   "source": [
    "**Add List Items**"
   ]
  },
  {
   "cell_type": "markdown",
   "id": "cf5679cb",
   "metadata": {},
   "source": [
    "Append Items;--\n",
    "To add an item to the end of the list, use the append() method:"
   ]
  },
  {
   "cell_type": "code",
   "execution_count": 47,
   "id": "c33abcae",
   "metadata": {},
   "outputs": [
    {
     "data": {
      "text/plain": [
       "['Apple', 'Jack_fruit', 'Pineapple', 'Gauva', 'Kiwi', 'Kiwi', 'Cherry']"
      ]
     },
     "execution_count": 47,
     "metadata": {},
     "output_type": "execute_result"
    }
   ],
   "source": [
    "lst"
   ]
  },
  {
   "cell_type": "code",
   "execution_count": 48,
   "id": "63c76727",
   "metadata": {},
   "outputs": [
    {
     "data": {
      "text/plain": [
       "'Kiwi'"
      ]
     },
     "execution_count": 48,
     "metadata": {},
     "output_type": "execute_result"
    }
   ],
   "source": [
    "lst.pop(4)"
   ]
  },
  {
   "cell_type": "code",
   "execution_count": 49,
   "id": "3dee1f59",
   "metadata": {},
   "outputs": [
    {
     "data": {
      "text/plain": [
       "['Apple', 'Jack_fruit', 'Pineapple', 'Gauva', 'Kiwi', 'Cherry']"
      ]
     },
     "execution_count": 49,
     "metadata": {},
     "output_type": "execute_result"
    }
   ],
   "source": [
    "lst"
   ]
  },
  {
   "cell_type": "code",
   "execution_count": 50,
   "id": "57724105",
   "metadata": {},
   "outputs": [],
   "source": [
    "lst.append(\"Grapes\")"
   ]
  },
  {
   "cell_type": "code",
   "execution_count": 51,
   "id": "c0e14b6e",
   "metadata": {},
   "outputs": [
    {
     "data": {
      "text/plain": [
       "['Apple', 'Jack_fruit', 'Pineapple', 'Gauva', 'Kiwi', 'Cherry', 'Grapes']"
      ]
     },
     "execution_count": 51,
     "metadata": {},
     "output_type": "execute_result"
    }
   ],
   "source": [
    "lst"
   ]
  },
  {
   "cell_type": "code",
   "execution_count": 46,
   "id": "29986c64",
   "metadata": {},
   "outputs": [
    {
     "name": "stdout",
     "output_type": "stream",
     "text": [
      "['apple', 'banana', 'cherry', 'mango', 'pineapple', 'papaya']\n"
     ]
    }
   ],
   "source": [
    "thislist = [\"apple\", \"banana\", \"cherry\"]\n",
    "tropical = [\"mango\", \"pineapple\", \"papaya\"]\n",
    "thislist.extend(tropical)\n",
    "print(thislist)\n"
   ]
  },
  {
   "cell_type": "markdown",
   "id": "0646b9cd",
   "metadata": {},
   "source": [
    "**Remove Specified Item**"
   ]
  },
  {
   "cell_type": "markdown",
   "id": "8a64c215",
   "metadata": {},
   "source": [
    "The remove() method removes the specified item."
   ]
  },
  {
   "cell_type": "code",
   "execution_count": 52,
   "id": "d42acad1",
   "metadata": {},
   "outputs": [
    {
     "data": {
      "text/plain": [
       "['Apple', 'Jack_fruit', 'Pineapple', 'Gauva', 'Kiwi', 'Cherry', 'Grapes']"
      ]
     },
     "execution_count": 52,
     "metadata": {},
     "output_type": "execute_result"
    }
   ],
   "source": [
    "lst"
   ]
  },
  {
   "cell_type": "code",
   "execution_count": 53,
   "id": "a776e0b4",
   "metadata": {},
   "outputs": [],
   "source": [
    "lst.remove(\"Jack_fruit\")"
   ]
  },
  {
   "cell_type": "code",
   "execution_count": 54,
   "id": "23e36ee3",
   "metadata": {},
   "outputs": [
    {
     "data": {
      "text/plain": [
       "['Apple', 'Pineapple', 'Gauva', 'Kiwi', 'Cherry', 'Grapes']"
      ]
     },
     "execution_count": 54,
     "metadata": {},
     "output_type": "execute_result"
    }
   ],
   "source": [
    "lst"
   ]
  },
  {
   "cell_type": "code",
   "execution_count": 55,
   "id": "80b512c1",
   "metadata": {},
   "outputs": [
    {
     "data": {
      "text/plain": [
       "'Kiwi'"
      ]
     },
     "execution_count": 55,
     "metadata": {},
     "output_type": "execute_result"
    }
   ],
   "source": [
    "#For Specific Use pop() function:\n",
    "\n",
    "lst.pop(3)"
   ]
  },
  {
   "cell_type": "code",
   "execution_count": 56,
   "id": "f452f6c6",
   "metadata": {},
   "outputs": [
    {
     "data": {
      "text/plain": [
       "'Grapes'"
      ]
     },
     "execution_count": 56,
     "metadata": {},
     "output_type": "execute_result"
    }
   ],
   "source": [
    "# Just pop() popes the ast element \n",
    "\n",
    "lst.pop()"
   ]
  },
  {
   "cell_type": "code",
   "execution_count": 57,
   "id": "d5e7e95f",
   "metadata": {},
   "outputs": [
    {
     "data": {
      "text/plain": [
       "['Apple', 'Pineapple', 'Gauva', 'Cherry']"
      ]
     },
     "execution_count": 57,
     "metadata": {},
     "output_type": "execute_result"
    }
   ],
   "source": [
    "lst"
   ]
  },
  {
   "cell_type": "markdown",
   "id": "bac4c87f",
   "metadata": {},
   "source": [
    "The **del** keyword also removes the specified index:"
   ]
  },
  {
   "cell_type": "code",
   "execution_count": 58,
   "id": "e62b81b7",
   "metadata": {},
   "outputs": [],
   "source": [
    "del lst[1]   #delete the \"Pineapple\""
   ]
  },
  {
   "cell_type": "code",
   "execution_count": 59,
   "id": "9dabf812",
   "metadata": {},
   "outputs": [
    {
     "data": {
      "text/plain": [
       "['Apple', 'Gauva', 'Cherry']"
      ]
     },
     "execution_count": 59,
     "metadata": {},
     "output_type": "execute_result"
    }
   ],
   "source": [
    "lst"
   ]
  },
  {
   "cell_type": "markdown",
   "id": "3207ea8f",
   "metadata": {},
   "source": [
    "**Clear the List**\n",
    "The clear() method empties the list.\n",
    "\n",
    "The list still remains, but it has no content."
   ]
  },
  {
   "cell_type": "code",
   "execution_count": 60,
   "id": "9094b828",
   "metadata": {},
   "outputs": [
    {
     "name": "stdout",
     "output_type": "stream",
     "text": [
      "[]\n"
     ]
    }
   ],
   "source": [
    "thislist = [\"apple\", \"banana\", \"cherry\"]\n",
    "thislist.clear()\n",
    "print(thislist)"
   ]
  },
  {
   "cell_type": "markdown",
   "id": "9531a1fd",
   "metadata": {},
   "source": [
    "**Loop Through a List**"
   ]
  },
  {
   "cell_type": "markdown",
   "id": "75d02e93",
   "metadata": {},
   "source": [
    "\n",
    "You can loop through the list items by using a for loop:"
   ]
  },
  {
   "cell_type": "code",
   "execution_count": 62,
   "id": "e39df7cc",
   "metadata": {},
   "outputs": [
    {
     "data": {
      "text/plain": [
       "['Apple', 'Gauva', 'Cherry']"
      ]
     },
     "execution_count": 62,
     "metadata": {},
     "output_type": "execute_result"
    }
   ],
   "source": [
    "lst"
   ]
  },
  {
   "cell_type": "code",
   "execution_count": 63,
   "id": "5b16b897",
   "metadata": {},
   "outputs": [
    {
     "name": "stdout",
     "output_type": "stream",
     "text": [
      "Apple\n",
      "Gauva\n",
      "Cherry\n"
     ]
    }
   ],
   "source": [
    "for x in lst:\n",
    "    print(x)"
   ]
  },
  {
   "cell_type": "code",
   "execution_count": 76,
   "id": "f7788cb9",
   "metadata": {},
   "outputs": [
    {
     "name": "stdout",
     "output_type": "stream",
     "text": [
      "0 --> Apple\n",
      "1 --> Gauva\n",
      "2 --> Cherry\n"
     ]
    }
   ],
   "source": [
    "for x in range(len(lst)):\n",
    "    print(x,\"-->\",lst[x])   "
   ]
  },
  {
   "cell_type": "code",
   "execution_count": 67,
   "id": "abab1e7e",
   "metadata": {},
   "outputs": [
    {
     "name": "stdout",
     "output_type": "stream",
     "text": [
      "apple\n",
      "banana\n",
      "cherry\n"
     ]
    }
   ],
   "source": [
    "thislist = [\"apple\", \"banana\", \"cherry\"]\n",
    "for i in range(len(thislist)):\n",
    "    print(thislist[i])"
   ]
  },
  {
   "cell_type": "code",
   "execution_count": 89,
   "id": "a359731a",
   "metadata": {},
   "outputs": [
    {
     "name": "stdout",
     "output_type": "stream",
     "text": [
      "0 -> Apple\n",
      "1 -> Gauva\n",
      "2 -> Cherry\n"
     ]
    }
   ],
   "source": [
    "i=0\n",
    "while i < len(lst):\n",
    "    print(i,\"->\",lst[i])\n",
    "    i=i+1"
   ]
  },
  {
   "cell_type": "markdown",
   "id": "ad4b2fc1",
   "metadata": {},
   "source": [
    "### List Comprehension"
   ]
  },
  {
   "cell_type": "markdown",
   "id": "72be5c43",
   "metadata": {},
   "source": [
    "List comprehension offers a shorter syntax when you want to create a new list based on the values of an existing list."
   ]
  },
  {
   "cell_type": "markdown",
   "id": "99d91ec2",
   "metadata": {},
   "source": [
    "**Syntax**--->\n",
    "newlist = [expression for item in iterable if condition == True]"
   ]
  },
  {
   "cell_type": "code",
   "execution_count": 7,
   "id": "128ac2e8",
   "metadata": {},
   "outputs": [
    {
     "name": "stdout",
     "output_type": "stream",
     "text": [
      "['Hassan', 'Banglore', 'Raichur', 'Chikmagaluru']\n"
     ]
    }
   ],
   "source": [
    "# Without List Comprehension:\n",
    "\n",
    "lt=[\"Hassan\",'Banglore','Raichur','Chikmagaluru','Mysur']\n",
    "\n",
    "new_lt=[]\n",
    "for x in lt:\n",
    "    \n",
    "    if \"a\" in x:\n",
    "        new_lt.append(x)\n",
    "    \n",
    "print(new_lt)"
   ]
  },
  {
   "cell_type": "code",
   "execution_count": 106,
   "id": "4c4de954",
   "metadata": {},
   "outputs": [
    {
     "data": {
      "text/plain": [
       "['Hassan', 'Banglore', 'Raichur', 'Chikmagaluru']"
      ]
     },
     "execution_count": 106,
     "metadata": {},
     "output_type": "execute_result"
    }
   ],
   "source": [
    "# By list Comprehension:\n",
    "[x for x in lt if \"a\" in x]"
   ]
  },
  {
   "cell_type": "code",
   "execution_count": 107,
   "id": "22d1794d",
   "metadata": {},
   "outputs": [],
   "source": [
    "new=[x for x in lt if x !=\"Hassan\"]"
   ]
  },
  {
   "cell_type": "code",
   "execution_count": 108,
   "id": "19fc2c9b",
   "metadata": {},
   "outputs": [
    {
     "data": {
      "text/plain": [
       "['Banglore', 'Raichur', 'Chikmagaluru', 'Mysur']"
      ]
     },
     "execution_count": 108,
     "metadata": {},
     "output_type": "execute_result"
    }
   ],
   "source": [
    "new"
   ]
  },
  {
   "cell_type": "code",
   "execution_count": 110,
   "id": "c4ea19f8",
   "metadata": {},
   "outputs": [
    {
     "name": "stdout",
     "output_type": "stream",
     "text": [
      "['Hassan', 'Banglore', 'Raichur', 'Chikmagaluru', 'Mysur']\n"
     ]
    }
   ],
   "source": [
    "a=[i for i in lt]\n",
    "print(a)"
   ]
  },
  {
   "cell_type": "code",
   "execution_count": 111,
   "id": "5eebc3af",
   "metadata": {},
   "outputs": [
    {
     "data": {
      "text/plain": [
       "[0, 1, 2, 3, 4, 5, 6, 7, 8, 9]"
      ]
     },
     "execution_count": 111,
     "metadata": {},
     "output_type": "execute_result"
    }
   ],
   "source": [
    "[a for a in range(10)]"
   ]
  },
  {
   "cell_type": "code",
   "execution_count": 114,
   "id": "2f680731",
   "metadata": {},
   "outputs": [
    {
     "data": {
      "text/plain": [
       "[6, 7, 8, 9, 10, 11, 12, 13, 14, 15, 16, 17, 18, 19]"
      ]
     },
     "execution_count": 114,
     "metadata": {},
     "output_type": "execute_result"
    }
   ],
   "source": [
    "[a for a in range(20) if a>5]"
   ]
  },
  {
   "cell_type": "code",
   "execution_count": 118,
   "id": "fa6f63d7",
   "metadata": {},
   "outputs": [
    {
     "data": {
      "text/plain": [
       "['goa', 'goa', 'goa', 'goa', 'goa']"
      ]
     },
     "execution_count": 118,
     "metadata": {},
     "output_type": "execute_result"
    }
   ],
   "source": [
    "[\"goa\" for x in lt]"
   ]
  },
  {
   "cell_type": "code",
   "execution_count": 119,
   "id": "e695ca7f",
   "metadata": {},
   "outputs": [
    {
     "data": {
      "text/plain": [
       "['HASSAN', 'BANGLORE', 'RAICHUR', 'CHIKMAGALURU', 'MYSUR']"
      ]
     },
     "execution_count": 119,
     "metadata": {},
     "output_type": "execute_result"
    }
   ],
   "source": [
    "[x.upper() for x in lt]"
   ]
  },
  {
   "cell_type": "code",
   "execution_count": 133,
   "id": "676d6db6",
   "metadata": {},
   "outputs": [
    {
     "data": {
      "text/plain": [
       "['Hassan', 'Banglore', 'Kerala', 'Chikmagaluru', 'Mysur']"
      ]
     },
     "execution_count": 133,
     "metadata": {},
     "output_type": "execute_result"
    }
   ],
   "source": [
    "[x if x!=\"Raichur\" else \"Kerala\" for x in lt]"
   ]
  },
  {
   "cell_type": "code",
   "execution_count": 131,
   "id": "198fd2c4",
   "metadata": {},
   "outputs": [
    {
     "data": {
      "text/plain": [
       "5"
      ]
     },
     "execution_count": 131,
     "metadata": {},
     "output_type": "execute_result"
    }
   ],
   "source": [
    "len(lt)"
   ]
  },
  {
   "cell_type": "code",
   "execution_count": 9,
   "id": "421d1668",
   "metadata": {},
   "outputs": [
    {
     "data": {
      "text/plain": [
       "0"
      ]
     },
     "execution_count": 9,
     "metadata": {},
     "output_type": "execute_result"
    }
   ],
   "source": [
    "lt.count(\" \")"
   ]
  },
  {
   "cell_type": "code",
   "execution_count": 10,
   "id": "f4d9931b",
   "metadata": {},
   "outputs": [],
   "source": [
    "lt.sort()"
   ]
  },
  {
   "cell_type": "code",
   "execution_count": 11,
   "id": "295b7b3b",
   "metadata": {},
   "outputs": [
    {
     "data": {
      "text/plain": [
       "['Banglore', 'Chikmagaluru', 'Hassan', 'Mysur', 'Raichur']"
      ]
     },
     "execution_count": 11,
     "metadata": {},
     "output_type": "execute_result"
    }
   ],
   "source": [
    "lt"
   ]
  },
  {
   "cell_type": "code",
   "execution_count": 12,
   "id": "a8e2bc62",
   "metadata": {},
   "outputs": [],
   "source": [
    "ls=lt.copy()"
   ]
  },
  {
   "cell_type": "code",
   "execution_count": 13,
   "id": "6e897342",
   "metadata": {},
   "outputs": [
    {
     "data": {
      "text/plain": [
       "['Banglore', 'Chikmagaluru', 'Hassan', 'Mysur', 'Raichur']"
      ]
     },
     "execution_count": 13,
     "metadata": {},
     "output_type": "execute_result"
    }
   ],
   "source": [
    "ls"
   ]
  },
  {
   "cell_type": "code",
   "execution_count": 14,
   "id": "b5eb8b54",
   "metadata": {},
   "outputs": [
    {
     "data": {
      "text/plain": [
       "['Banglore', 'Chikmagaluru', 'Hassan', 'Mysur', 'Raichur']"
      ]
     },
     "execution_count": 14,
     "metadata": {},
     "output_type": "execute_result"
    }
   ],
   "source": [
    "lt"
   ]
  },
  {
   "cell_type": "markdown",
   "id": "370d4cdd",
   "metadata": {},
   "source": [
    "# Tuple"
   ]
  },
  {
   "cell_type": "markdown",
   "id": "f864e73a",
   "metadata": {},
   "source": [
    "Tuples are used to store multiple items in a single variable.\n",
    "\n",
    "A tuple is a collection which is ordered and unchangeable and allow duplicate values.\n",
    "\n",
    "Tuples are written with round brackets.'( )'"
   ]
  },
  {
   "cell_type": "code",
   "execution_count": 22,
   "id": "d688a0a2",
   "metadata": {},
   "outputs": [],
   "source": [
    "tup=(\"Car\",'Bus','Auto','Jeep','Bike','Van','Bus')"
   ]
  },
  {
   "cell_type": "code",
   "execution_count": 17,
   "id": "1ea4b1db",
   "metadata": {},
   "outputs": [
    {
     "data": {
      "text/plain": [
       "tuple"
      ]
     },
     "execution_count": 17,
     "metadata": {},
     "output_type": "execute_result"
    }
   ],
   "source": [
    "type(tup)"
   ]
  },
  {
   "cell_type": "code",
   "execution_count": 23,
   "id": "66338d36",
   "metadata": {},
   "outputs": [
    {
     "data": {
      "text/plain": [
       "7"
      ]
     },
     "execution_count": 23,
     "metadata": {},
     "output_type": "execute_result"
    }
   ],
   "source": [
    "len(tup)"
   ]
  },
  {
   "cell_type": "code",
   "execution_count": 24,
   "id": "3534cec6",
   "metadata": {},
   "outputs": [
    {
     "data": {
      "text/plain": [
       "2"
      ]
     },
     "execution_count": 24,
     "metadata": {},
     "output_type": "execute_result"
    }
   ],
   "source": [
    "tup.count(\"Bus\")"
   ]
  },
  {
   "cell_type": "code",
   "execution_count": 25,
   "id": "37053da9",
   "metadata": {},
   "outputs": [
    {
     "data": {
      "text/plain": [
       "'Auto'"
      ]
     },
     "execution_count": 25,
     "metadata": {},
     "output_type": "execute_result"
    }
   ],
   "source": [
    "tup[2]"
   ]
  },
  {
   "cell_type": "code",
   "execution_count": 15,
   "id": "ce8f02d9",
   "metadata": {},
   "outputs": [
    {
     "name": "stdout",
     "output_type": "stream",
     "text": [
      "<class 'tuple'>\n",
      "<class 'str'>\n"
     ]
    }
   ],
   "source": [
    "thistuple = (\"apple\",)   #Not Comma(,)\n",
    "print(type(thistuple))\n",
    "\n",
    "#NOT a tuple\n",
    "thistuple = (\"apple\")\n",
    "print(type(thistuple))\n"
   ]
  },
  {
   "cell_type": "code",
   "execution_count": 26,
   "id": "dc79339b",
   "metadata": {},
   "outputs": [],
   "source": [
    "tp=tuple([\"Apple\",'cat',1,45,True,99.9])"
   ]
  },
  {
   "cell_type": "code",
   "execution_count": 27,
   "id": "ca77404d",
   "metadata": {},
   "outputs": [
    {
     "data": {
      "text/plain": [
       "('Apple', 'cat', 1, 45, True, 99.9)"
      ]
     },
     "execution_count": 27,
     "metadata": {},
     "output_type": "execute_result"
    }
   ],
   "source": [
    "tp"
   ]
  },
  {
   "cell_type": "code",
   "execution_count": 28,
   "id": "766c7ce3",
   "metadata": {},
   "outputs": [
    {
     "data": {
      "text/plain": [
       "tuple"
      ]
     },
     "execution_count": 28,
     "metadata": {},
     "output_type": "execute_result"
    }
   ],
   "source": [
    "type(tp)"
   ]
  },
  {
   "cell_type": "code",
   "execution_count": 29,
   "id": "0d66b1a1",
   "metadata": {},
   "outputs": [
    {
     "data": {
      "text/plain": [
       "('Car', 'Bus', 'Auto', 'Jeep', 'Bike', 'Van', 'Bus')"
      ]
     },
     "execution_count": 29,
     "metadata": {},
     "output_type": "execute_result"
    }
   ],
   "source": [
    "tup"
   ]
  },
  {
   "cell_type": "code",
   "execution_count": 30,
   "id": "1ece64b3",
   "metadata": {},
   "outputs": [
    {
     "data": {
      "text/plain": [
       "('Car', 'Bus', 'Auto', 'Jeep', 'Bike', 'Van')"
      ]
     },
     "execution_count": 30,
     "metadata": {},
     "output_type": "execute_result"
    }
   ],
   "source": [
    "tup[:-1]"
   ]
  },
  {
   "cell_type": "code",
   "execution_count": 31,
   "id": "0e86d5fb",
   "metadata": {},
   "outputs": [
    {
     "data": {
      "text/plain": [
       "('Auto', 'Jeep')"
      ]
     },
     "execution_count": 31,
     "metadata": {},
     "output_type": "execute_result"
    }
   ],
   "source": [
    "tup[2:4]"
   ]
  },
  {
   "cell_type": "code",
   "execution_count": 39,
   "id": "380ebb78",
   "metadata": {},
   "outputs": [
    {
     "data": {
      "text/plain": [
       "('Jeep', 'Bike', 'Van')"
      ]
     },
     "execution_count": 39,
     "metadata": {},
     "output_type": "execute_result"
    }
   ],
   "source": [
    "tup[-4:-1]"
   ]
  },
  {
   "cell_type": "code",
   "execution_count": 43,
   "id": "6ccbe33f",
   "metadata": {},
   "outputs": [
    {
     "name": "stdout",
     "output_type": "stream",
     "text": [
      "Bike Present\n"
     ]
    }
   ],
   "source": [
    "if \"Bike\" in tup:\n",
    "    print(\"Bike Present\")\n",
    "else:\n",
    "    print(\"Bike not found\")"
   ]
  },
  {
   "cell_type": "markdown",
   "id": "b36d12c5",
   "metadata": {},
   "source": [
    "Change tuple values to list"
   ]
  },
  {
   "cell_type": "code",
   "execution_count": 44,
   "id": "c34c3c6c",
   "metadata": {},
   "outputs": [
    {
     "data": {
      "text/plain": [
       "('Car', 'Bus', 'Auto', 'Jeep', 'Bike', 'Van', 'Bus')"
      ]
     },
     "execution_count": 44,
     "metadata": {},
     "output_type": "execute_result"
    }
   ],
   "source": [
    "tup"
   ]
  },
  {
   "cell_type": "code",
   "execution_count": 49,
   "id": "a0108847",
   "metadata": {},
   "outputs": [
    {
     "data": {
      "text/plain": [
       "['Car', 'Mini_bus', 'Auto', 'Jeep', 'Bike', 'Van', 'Bus']"
      ]
     },
     "execution_count": 49,
     "metadata": {},
     "output_type": "execute_result"
    }
   ],
   "source": [
    "y= list(tup)\n",
    "y[1]= \"Mini_bus\"\n",
    "y"
   ]
  },
  {
   "cell_type": "code",
   "execution_count": 46,
   "id": "92272bdb",
   "metadata": {},
   "outputs": [
    {
     "name": "stdout",
     "output_type": "stream",
     "text": [
      "('apple', 'kiwi', 'cherry')\n"
     ]
    }
   ],
   "source": [
    "x = (\"apple\", \"banana\", \"cherry\")\n",
    "y = list(x)\n",
    "y[1] = \"kiwi\"\n",
    "x = tuple(y)\n",
    "\n",
    "print(x)"
   ]
  },
  {
   "cell_type": "code",
   "execution_count": 50,
   "id": "25b81a16",
   "metadata": {},
   "outputs": [
    {
     "data": {
      "text/plain": [
       "['Car', 'Mini_bus', 'Auto', 'Jeep', 'Bike', 'Van', 'Bus']"
      ]
     },
     "execution_count": 50,
     "metadata": {},
     "output_type": "execute_result"
    }
   ],
   "source": [
    "y"
   ]
  },
  {
   "cell_type": "code",
   "execution_count": 60,
   "id": "40e2841e",
   "metadata": {},
   "outputs": [
    {
     "data": {
      "text/plain": [
       "'Lorry'"
      ]
     },
     "execution_count": 60,
     "metadata": {},
     "output_type": "execute_result"
    }
   ],
   "source": [
    "y.pop()"
   ]
  },
  {
   "cell_type": "code",
   "execution_count": 61,
   "id": "bb89ac1f",
   "metadata": {},
   "outputs": [
    {
     "data": {
      "text/plain": [
       "['Car', 'Mini_bus', 'Auto', 'Jeep', 'Bike', 'Van', 'Bus']"
      ]
     },
     "execution_count": 61,
     "metadata": {},
     "output_type": "execute_result"
    }
   ],
   "source": [
    "y"
   ]
  },
  {
   "cell_type": "code",
   "execution_count": 62,
   "id": "5daa5a95",
   "metadata": {},
   "outputs": [
    {
     "name": "stdout",
     "output_type": "stream",
     "text": [
      "('Car', 'Mini_bus', 'Auto', 'Jeep', 'Bike', 'Van', 'Bus', 'Truck')\n"
     ]
    }
   ],
   "source": [
    "y.append(\"Truck\")\n",
    "print(tuple(y))"
   ]
  },
  {
   "cell_type": "markdown",
   "id": "c316c6db",
   "metadata": {},
   "source": [
    "Adding Tuple"
   ]
  },
  {
   "cell_type": "code",
   "execution_count": 64,
   "id": "d788c38d",
   "metadata": {},
   "outputs": [
    {
     "name": "stdout",
     "output_type": "stream",
     "text": [
      "('cat', 'Dog', 'Lion', 'Tiger')\n"
     ]
    }
   ],
   "source": [
    "x=(\"cat\",'Dog')\n",
    "z=(\"Lion\",\"Tiger\")\n",
    "\n",
    "m = x+z\n",
    "\n",
    "print(m)"
   ]
  },
  {
   "cell_type": "code",
   "execution_count": 70,
   "id": "efa3da28",
   "metadata": {},
   "outputs": [
    {
     "name": "stdout",
     "output_type": "stream",
     "text": [
      "Car\n",
      "Bus\n",
      "Auto\n",
      "Jeep\n",
      "Bike\n",
      "Van\n",
      "Bus\n"
     ]
    }
   ],
   "source": [
    "for i in range(len(tup)):\n",
    "    print(tup[i])"
   ]
  },
  {
   "cell_type": "code",
   "execution_count": 72,
   "id": "59fa5242",
   "metadata": {},
   "outputs": [
    {
     "name": "stdout",
     "output_type": "stream",
     "text": [
      "Auto\n",
      "Jeep\n",
      "Bike\n",
      "Van\n",
      "Bus\n"
     ]
    }
   ],
   "source": [
    "i=2\n",
    "while i <len(tup):\n",
    "    print(tup[i])\n",
    "    i=i+1"
   ]
  },
  {
   "cell_type": "code",
   "execution_count": 73,
   "id": "e7ddba06",
   "metadata": {},
   "outputs": [
    {
     "data": {
      "text/plain": [
       "('cat', 'Dog', 'Lion', 'Tiger')"
      ]
     },
     "execution_count": 73,
     "metadata": {},
     "output_type": "execute_result"
    }
   ],
   "source": [
    "m"
   ]
  },
  {
   "cell_type": "code",
   "execution_count": 80,
   "id": "5765721a",
   "metadata": {},
   "outputs": [
    {
     "data": {
      "text/plain": [
       "('cat', 'Dog', 'Lion', 'Tiger', 'cat', 'Dog', 'Lion', 'Tiger')"
      ]
     },
     "execution_count": 80,
     "metadata": {},
     "output_type": "execute_result"
    }
   ],
   "source": [
    "p=m*2\n",
    "p"
   ]
  },
  {
   "cell_type": "code",
   "execution_count": 81,
   "id": "9ae17dbd",
   "metadata": {},
   "outputs": [
    {
     "data": {
      "text/plain": [
       "1"
      ]
     },
     "execution_count": 81,
     "metadata": {},
     "output_type": "execute_result"
    }
   ],
   "source": [
    "m.index(\"Dog\")"
   ]
  },
  {
   "cell_type": "code",
   "execution_count": 83,
   "id": "f9c3fa44",
   "metadata": {},
   "outputs": [
    {
     "data": {
      "text/plain": [
       "2"
      ]
     },
     "execution_count": 83,
     "metadata": {},
     "output_type": "execute_result"
    }
   ],
   "source": [
    "p.count(\"cat\")"
   ]
  },
  {
   "cell_type": "markdown",
   "id": "4cdeea71",
   "metadata": {},
   "source": [
    "# Set"
   ]
  },
  {
   "cell_type": "markdown",
   "id": "e69a7722",
   "metadata": {},
   "source": [
    "Sets are used to store multiple items in a single variable.\n",
    "\n",
    "A set is a collection which is unordered, **unchangeable*, and unindexed**.\n",
    "\n",
    "* Note: Set items are unchangeable, but you can remove items and add new items."
   ]
  },
  {
   "cell_type": "code",
   "execution_count": 92,
   "id": "e02eb49d",
   "metadata": {},
   "outputs": [],
   "source": [
    "my_set={'Ravi','Jhon',True,'shanti','manish',45.8,1}  # true and 1 consider as 1no Duplicates"
   ]
  },
  {
   "cell_type": "code",
   "execution_count": 93,
   "id": "1435e1a0",
   "metadata": {},
   "outputs": [
    {
     "data": {
      "text/plain": [
       "{45.8, 'Jhon', 'Ravi', True, 'manish', 'shanti'}"
      ]
     },
     "execution_count": 93,
     "metadata": {},
     "output_type": "execute_result"
    }
   ],
   "source": [
    "my_set"
   ]
  },
  {
   "cell_type": "code",
   "execution_count": 94,
   "id": "f1307061",
   "metadata": {},
   "outputs": [
    {
     "data": {
      "text/plain": [
       "6"
      ]
     },
     "execution_count": 94,
     "metadata": {},
     "output_type": "execute_result"
    }
   ],
   "source": [
    "len(my_set)"
   ]
  },
  {
   "cell_type": "code",
   "execution_count": 95,
   "id": "85fdea41",
   "metadata": {},
   "outputs": [
    {
     "data": {
      "text/plain": [
       "set"
      ]
     },
     "execution_count": 95,
     "metadata": {},
     "output_type": "execute_result"
    }
   ],
   "source": [
    "type(my_set)"
   ]
  },
  {
   "cell_type": "code",
   "execution_count": 97,
   "id": "8f607a85",
   "metadata": {},
   "outputs": [
    {
     "data": {
      "text/plain": [
       "set"
      ]
     },
     "execution_count": 97,
     "metadata": {},
     "output_type": "execute_result"
    }
   ],
   "source": [
    "t= set({'gym','Bus','Run','Toy'})\n",
    "\n",
    "type(t)"
   ]
  },
  {
   "cell_type": "code",
   "execution_count": 98,
   "id": "48a23114",
   "metadata": {},
   "outputs": [
    {
     "data": {
      "text/plain": [
       "{45.8, 'Jhon', 'Ravi', True, 'manish', 'shanti'}"
      ]
     },
     "execution_count": 98,
     "metadata": {},
     "output_type": "execute_result"
    }
   ],
   "source": [
    "my_set"
   ]
  },
  {
   "cell_type": "code",
   "execution_count": 99,
   "id": "8da03b80",
   "metadata": {},
   "outputs": [
    {
     "name": "stdout",
     "output_type": "stream",
     "text": [
      "True\n"
     ]
    }
   ],
   "source": [
    "print(\"Jhon\" in my_set)"
   ]
  },
  {
   "cell_type": "code",
   "execution_count": 106,
   "id": "3fa8ec9c",
   "metadata": {},
   "outputs": [
    {
     "name": "stdout",
     "output_type": "stream",
     "text": [
      "True\n",
      "Ravi\n",
      "shanti\n",
      "Jhon\n",
      "45.8\n",
      "manish\n"
     ]
    }
   ],
   "source": [
    "for x in my_set:\n",
    "    print(x)"
   ]
  },
  {
   "cell_type": "markdown",
   "id": "af106489",
   "metadata": {},
   "source": [
    "**Add Items**\n",
    "\n",
    "To add one item to a set use the add() method."
   ]
  },
  {
   "cell_type": "code",
   "execution_count": 111,
   "id": "57abfc68",
   "metadata": {},
   "outputs": [],
   "source": [
    "my_set.add(\"Shalini\")"
   ]
  },
  {
   "cell_type": "code",
   "execution_count": 109,
   "id": "f1b7f5cc",
   "metadata": {},
   "outputs": [
    {
     "data": {
      "text/plain": [
       "{45.8, 'Jhon', 'Ravi', 'Shalini', True, 'manish', 'shanti'}"
      ]
     },
     "execution_count": 109,
     "metadata": {},
     "output_type": "execute_result"
    }
   ],
   "source": [
    "my_set"
   ]
  },
  {
   "cell_type": "markdown",
   "id": "d54625ec",
   "metadata": {},
   "source": [
    "To add items from another set into the current set, use the update() method."
   ]
  },
  {
   "cell_type": "code",
   "execution_count": 113,
   "id": "f2f66a3b",
   "metadata": {},
   "outputs": [],
   "source": [
    "st=(48.96, True,'Kiwi')"
   ]
  },
  {
   "cell_type": "code",
   "execution_count": 114,
   "id": "5fae9122",
   "metadata": {},
   "outputs": [],
   "source": [
    "my_set.update(st)"
   ]
  },
  {
   "cell_type": "code",
   "execution_count": 115,
   "id": "b082aff4",
   "metadata": {},
   "outputs": [
    {
     "data": {
      "text/plain": [
       "{45.8, 48.96, 'Jhon', 'Kiwi', 'Ravi', 'Shalini', True, 'manish', 'shanti'}"
      ]
     },
     "execution_count": 115,
     "metadata": {},
     "output_type": "execute_result"
    }
   ],
   "source": [
    "my_set"
   ]
  },
  {
   "cell_type": "code",
   "execution_count": 117,
   "id": "81963969",
   "metadata": {},
   "outputs": [
    {
     "name": "stdout",
     "output_type": "stream",
     "text": [
      "{True, 3.5, 'shanti', 'Kiwi', 'manish', 'Jhon', 'Ravi', 45.8, 48.96, 'raju', 'Shalini'}\n"
     ]
    }
   ],
   "source": [
    "r=[3.5,'raju']\n",
    "\n",
    "my_set.update(r)\n",
    "\n",
    "print(my_set)"
   ]
  },
  {
   "cell_type": "code",
   "execution_count": 118,
   "id": "89b37c8c",
   "metadata": {},
   "outputs": [
    {
     "data": {
      "text/plain": [
       "11"
      ]
     },
     "execution_count": 118,
     "metadata": {},
     "output_type": "execute_result"
    }
   ],
   "source": [
    "len(my_set)"
   ]
  },
  {
   "cell_type": "code",
   "execution_count": 119,
   "id": "b8faa7c5",
   "metadata": {},
   "outputs": [
    {
     "data": {
      "text/plain": [
       "True"
      ]
     },
     "execution_count": 119,
     "metadata": {},
     "output_type": "execute_result"
    }
   ],
   "source": [
    "my_set.pop()  #pop random element"
   ]
  },
  {
   "cell_type": "code",
   "execution_count": 120,
   "id": "a6243dba",
   "metadata": {},
   "outputs": [
    {
     "data": {
      "text/plain": [
       "10"
      ]
     },
     "execution_count": 120,
     "metadata": {},
     "output_type": "execute_result"
    }
   ],
   "source": [
    "len(my_set)"
   ]
  },
  {
   "cell_type": "markdown",
   "id": "dfeb7bd2",
   "metadata": {},
   "source": [
    "**Remove Item**\n",
    "\n",
    "To remove an item in a set, use the remove(), or the discard() method."
   ]
  },
  {
   "cell_type": "code",
   "execution_count": 123,
   "id": "1bd7338d",
   "metadata": {},
   "outputs": [],
   "source": [
    "my_set.discard(45.8)"
   ]
  },
  {
   "cell_type": "code",
   "execution_count": 124,
   "id": "d92eb48a",
   "metadata": {},
   "outputs": [
    {
     "data": {
      "text/plain": [
       "{3.5, 48.96, 'Jhon', 'Kiwi', 'Ravi', 'Shalini', 'manish', 'raju', 'shanti'}"
      ]
     },
     "execution_count": 124,
     "metadata": {},
     "output_type": "execute_result"
    }
   ],
   "source": [
    "my_set"
   ]
  },
  {
   "cell_type": "code",
   "execution_count": 126,
   "id": "45035f02",
   "metadata": {},
   "outputs": [],
   "source": [
    "my_set.remove('Kiwi')"
   ]
  },
  {
   "cell_type": "code",
   "execution_count": 127,
   "id": "66f2891f",
   "metadata": {},
   "outputs": [
    {
     "data": {
      "text/plain": [
       "{3.5, 48.96, 'Jhon', 'Ravi', 'Shalini', 'manish', 'raju', 'shanti'}"
      ]
     },
     "execution_count": 127,
     "metadata": {},
     "output_type": "execute_result"
    }
   ],
   "source": [
    "my_set"
   ]
  },
  {
   "cell_type": "code",
   "execution_count": 128,
   "id": "157c2ccc",
   "metadata": {},
   "outputs": [
    {
     "data": {
      "text/plain": [
       "8"
      ]
     },
     "execution_count": 128,
     "metadata": {},
     "output_type": "execute_result"
    }
   ],
   "source": [
    "len(my_set)"
   ]
  },
  {
   "cell_type": "markdown",
   "id": "343a7487",
   "metadata": {},
   "source": [
    "**Join Two Sets**\n",
    "\n",
    "There are several ways to join two or more sets in Python.\n",
    "\n",
    "You can use the union() method that returns a new set containing all items from both sets, or the update() method that inserts all the items from one set into another:"
   ]
  },
  {
   "cell_type": "code",
   "execution_count": 132,
   "id": "fcd4179c",
   "metadata": {},
   "outputs": [],
   "source": [
    "r={85,True,'cat'}\n",
    "q= {'Krish', False,63.45}"
   ]
  },
  {
   "cell_type": "code",
   "execution_count": 133,
   "id": "8d8cf489",
   "metadata": {},
   "outputs": [
    {
     "data": {
      "text/plain": [
       "{63.45, 85, False, 'Krish', True, 'cat'}"
      ]
     },
     "execution_count": 133,
     "metadata": {},
     "output_type": "execute_result"
    }
   ],
   "source": [
    "print(r.union(q))"
   ]
  },
  {
   "cell_type": "code",
   "execution_count": 148,
   "id": "2b351408",
   "metadata": {},
   "outputs": [
    {
     "data": {
      "text/plain": [
       "{63.45, 85, False, 'Krish', True, 'cat'}"
      ]
     },
     "execution_count": 148,
     "metadata": {},
     "output_type": "execute_result"
    }
   ],
   "source": [
    "r.update(q)\n",
    "r"
   ]
  },
  {
   "cell_type": "code",
   "execution_count": 145,
   "id": "cd30cd13",
   "metadata": {},
   "outputs": [
    {
     "data": {
      "text/plain": [
       "set"
      ]
     },
     "execution_count": 145,
     "metadata": {},
     "output_type": "execute_result"
    }
   ],
   "source": [
    "type(q)"
   ]
  },
  {
   "cell_type": "code",
   "execution_count": 138,
   "id": "88e897be",
   "metadata": {},
   "outputs": [
    {
     "name": "stdout",
     "output_type": "stream",
     "text": [
      "{1, 2, 3, 'a', 'b', 'c'}\n"
     ]
    }
   ],
   "source": [
    "set1 = {\"a\", \"b\" , \"c\"}\n",
    "set2 = {1, 2, 3}\n",
    "\n",
    "set1.update(set2)\n",
    "print(set1)"
   ]
  },
  {
   "cell_type": "markdown",
   "id": "5af18ad5",
   "metadata": {},
   "source": [
    "The intersection_update() method will keep only the items that are present in both sets."
   ]
  },
  {
   "cell_type": "code",
   "execution_count": 149,
   "id": "a879352c",
   "metadata": {},
   "outputs": [
    {
     "data": {
      "text/plain": [
       "{'Cow'}"
      ]
     },
     "execution_count": 149,
     "metadata": {},
     "output_type": "execute_result"
    }
   ],
   "source": [
    "i={\"Dummy\",96,'Cow'}\n",
    "j={'Cow',45,\"jack\"}\n",
    "\n",
    "i.intersection_update(j)\n",
    "\n",
    "i"
   ]
  },
  {
   "cell_type": "markdown",
   "id": "c9185beb",
   "metadata": {},
   "source": [
    "The symmetric_difference_update() method will keep only the elements that are NOT present in both sets."
   ]
  },
  {
   "cell_type": "code",
   "execution_count": 154,
   "id": "4d6b7e08",
   "metadata": {},
   "outputs": [
    {
     "data": {
      "text/plain": [
       "{45, 'jack'}"
      ]
     },
     "execution_count": 154,
     "metadata": {},
     "output_type": "execute_result"
    }
   ],
   "source": [
    "i.symmetric_difference_update(j)\n",
    "i"
   ]
  },
  {
   "cell_type": "code",
   "execution_count": 155,
   "id": "655837ea",
   "metadata": {},
   "outputs": [
    {
     "data": {
      "text/plain": [
       "True"
      ]
     },
     "execution_count": 155,
     "metadata": {},
     "output_type": "execute_result"
    }
   ],
   "source": [
    "i.issubset(j)"
   ]
  },
  {
   "cell_type": "code",
   "execution_count": 156,
   "id": "d8a6f062",
   "metadata": {},
   "outputs": [
    {
     "data": {
      "text/plain": [
       "False"
      ]
     },
     "execution_count": 156,
     "metadata": {},
     "output_type": "execute_result"
    }
   ],
   "source": [
    "j.issubset(i)"
   ]
  },
  {
   "cell_type": "code",
   "execution_count": 157,
   "id": "f4e71bd3",
   "metadata": {},
   "outputs": [
    {
     "data": {
      "text/plain": [
       "True"
      ]
     },
     "execution_count": 157,
     "metadata": {},
     "output_type": "execute_result"
    }
   ],
   "source": [
    "j.issuperset(i)"
   ]
  },
  {
   "cell_type": "code",
   "execution_count": 158,
   "id": "0d936977",
   "metadata": {},
   "outputs": [
    {
     "data": {
      "text/plain": [
       "False"
      ]
     },
     "execution_count": 158,
     "metadata": {},
     "output_type": "execute_result"
    }
   ],
   "source": [
    "i.issuperset(j)"
   ]
  },
  {
   "cell_type": "markdown",
   "id": "25238fe4",
   "metadata": {},
   "source": [
    "# Dictionary"
   ]
  },
  {
   "cell_type": "markdown",
   "id": "101f1f14",
   "metadata": {},
   "source": [
    "\n",
    "Dictionaries are used to store data values in key:value pairs.\n",
    "\n",
    "A dictionary is a collection which is ordered*, changeable and do not allow duplicates."
   ]
  },
  {
   "cell_type": "code",
   "execution_count": 7,
   "id": "f20931fc",
   "metadata": {},
   "outputs": [],
   "source": [
    "dit={\"Number\":[1,2,3,4,5],'color':['Red','Orange','green'],'Car':\"Volvo\"}"
   ]
  },
  {
   "cell_type": "code",
   "execution_count": 8,
   "id": "c43c8369",
   "metadata": {},
   "outputs": [
    {
     "name": "stdout",
     "output_type": "stream",
     "text": [
      "{'Number': [1, 2, 3, 4, 5], 'color': ['Red', 'Orange', 'green'], 'Car': 'Volvo'}\n"
     ]
    }
   ],
   "source": [
    "print(dit)"
   ]
  },
  {
   "cell_type": "code",
   "execution_count": 9,
   "id": "1250ef0d",
   "metadata": {},
   "outputs": [
    {
     "name": "stdout",
     "output_type": "stream",
     "text": [
      "[1, 2, 3, 4, 5]\n"
     ]
    }
   ],
   "source": [
    "print(dit['Number'])"
   ]
  },
  {
   "cell_type": "code",
   "execution_count": 10,
   "id": "a4de4996",
   "metadata": {},
   "outputs": [
    {
     "data": {
      "text/plain": [
       "dict"
      ]
     },
     "execution_count": 10,
     "metadata": {},
     "output_type": "execute_result"
    }
   ],
   "source": [
    "type(dit)"
   ]
  },
  {
   "cell_type": "code",
   "execution_count": 11,
   "id": "149c43f8",
   "metadata": {},
   "outputs": [
    {
     "data": {
      "text/plain": [
       "3"
      ]
     },
     "execution_count": 11,
     "metadata": {},
     "output_type": "execute_result"
    }
   ],
   "source": [
    "len(dit)"
   ]
  },
  {
   "cell_type": "code",
   "execution_count": 12,
   "id": "7236dda9",
   "metadata": {},
   "outputs": [
    {
     "data": {
      "text/plain": [
       "{'Name': 'John', 'Age': 45, 'Location': 'UK'}"
      ]
     },
     "execution_count": 12,
     "metadata": {},
     "output_type": "execute_result"
    }
   ],
   "source": [
    "d=dict(Name = \"John\", Age = 45,Location = \"UK\")\n",
    "d"
   ]
  },
  {
   "cell_type": "code",
   "execution_count": 13,
   "id": "c94e1f48",
   "metadata": {},
   "outputs": [
    {
     "data": {
      "text/plain": [
       "dict"
      ]
     },
     "execution_count": 13,
     "metadata": {},
     "output_type": "execute_result"
    }
   ],
   "source": [
    "type(d)"
   ]
  },
  {
   "cell_type": "markdown",
   "id": "9eb8ab2c",
   "metadata": {},
   "source": [
    "**Accessing Items**\n",
    "\n",
    "You can access the items of a dictionary by referring to its key name, inside square brackets:"
   ]
  },
  {
   "cell_type": "code",
   "execution_count": 14,
   "id": "e1751ebf",
   "metadata": {},
   "outputs": [
    {
     "data": {
      "text/plain": [
       "['Red', 'Orange', 'green']"
      ]
     },
     "execution_count": 14,
     "metadata": {},
     "output_type": "execute_result"
    }
   ],
   "source": [
    "dit.get(\"color\")"
   ]
  },
  {
   "cell_type": "code",
   "execution_count": 15,
   "id": "86b5cee9",
   "metadata": {},
   "outputs": [
    {
     "data": {
      "text/plain": [
       "45"
      ]
     },
     "execution_count": 15,
     "metadata": {},
     "output_type": "execute_result"
    }
   ],
   "source": [
    "d[\"Age\"]"
   ]
  },
  {
   "cell_type": "code",
   "execution_count": 16,
   "id": "d2a8c230",
   "metadata": {},
   "outputs": [
    {
     "data": {
      "text/plain": [
       "dict_keys(['Name', 'Age', 'Location'])"
      ]
     },
     "execution_count": 16,
     "metadata": {},
     "output_type": "execute_result"
    }
   ],
   "source": [
    "d.keys()"
   ]
  },
  {
   "cell_type": "code",
   "execution_count": 17,
   "id": "138230a5",
   "metadata": {},
   "outputs": [
    {
     "data": {
      "text/plain": [
       "dict_values(['John', 45, 'UK'])"
      ]
     },
     "execution_count": 17,
     "metadata": {},
     "output_type": "execute_result"
    }
   ],
   "source": [
    "d.values()"
   ]
  },
  {
   "cell_type": "code",
   "execution_count": 19,
   "id": "0b066bdb",
   "metadata": {},
   "outputs": [
    {
     "data": {
      "text/plain": [
       "dict_keys(['Number', 'color', 'Car'])"
      ]
     },
     "execution_count": 19,
     "metadata": {},
     "output_type": "execute_result"
    }
   ],
   "source": [
    "dit.keys()"
   ]
  },
  {
   "cell_type": "code",
   "execution_count": 21,
   "id": "0bdfbf0c",
   "metadata": {},
   "outputs": [
    {
     "data": {
      "text/plain": [
       "dict_values([[1, 2, 3, 4, 5], ['Red', 'Orange', 'green'], 'Volvo'])"
      ]
     },
     "execution_count": 21,
     "metadata": {},
     "output_type": "execute_result"
    }
   ],
   "source": [
    "dit.values()"
   ]
  },
  {
   "cell_type": "markdown",
   "id": "678a328e",
   "metadata": {},
   "source": [
    "Adding New Item:"
   ]
  },
  {
   "cell_type": "code",
   "execution_count": 22,
   "id": "a1838e2e",
   "metadata": {},
   "outputs": [],
   "source": [
    "d[\"State\"]=\"San Francisco\""
   ]
  },
  {
   "cell_type": "code",
   "execution_count": 23,
   "id": "1e939108",
   "metadata": {},
   "outputs": [
    {
     "data": {
      "text/plain": [
       "{'Name': 'John', 'Age': 45, 'Location': 'UK', 'State': 'San Francisco'}"
      ]
     },
     "execution_count": 23,
     "metadata": {},
     "output_type": "execute_result"
    }
   ],
   "source": [
    "d"
   ]
  },
  {
   "cell_type": "code",
   "execution_count": 25,
   "id": "de0ff70a",
   "metadata": {},
   "outputs": [
    {
     "data": {
      "text/plain": [
       "dict_items([('Name', 'John'), ('Age', 45), ('Location', 'UK'), ('State', 'San Francisco')])"
      ]
     },
     "execution_count": 25,
     "metadata": {},
     "output_type": "execute_result"
    }
   ],
   "source": [
    "d.items()"
   ]
  },
  {
   "cell_type": "code",
   "execution_count": 26,
   "id": "aa450d20",
   "metadata": {},
   "outputs": [
    {
     "data": {
      "text/plain": [
       "dict_items([('Number', [1, 2, 3, 4, 5]), ('color', ['Red', 'Orange', 'green']), ('Car', 'Volvo')])"
      ]
     },
     "execution_count": 26,
     "metadata": {},
     "output_type": "execute_result"
    }
   ],
   "source": [
    "dit.items()"
   ]
  },
  {
   "cell_type": "code",
   "execution_count": 28,
   "id": "6ccfb31f",
   "metadata": {},
   "outputs": [
    {
     "name": "stdout",
     "output_type": "stream",
     "text": [
      "Age present in Dictionary\n"
     ]
    }
   ],
   "source": [
    "if \"Age\" in d:\n",
    "    print(\"Age present in Dictionary\")\n",
    "else:\n",
    "    print(\"Not Found\")"
   ]
  },
  {
   "cell_type": "markdown",
   "id": "7d3f519a",
   "metadata": {},
   "source": [
    "**Change Values**\n",
    "\n",
    "You can change the value of a specific item by referring to its key name:"
   ]
  },
  {
   "cell_type": "code",
   "execution_count": 29,
   "id": "64e4b049",
   "metadata": {},
   "outputs": [
    {
     "data": {
      "text/plain": [
       "{'Name': 'John', 'Age': 45, 'Location': 'UK', 'State': 'San Francisco'}"
      ]
     },
     "execution_count": 29,
     "metadata": {},
     "output_type": "execute_result"
    }
   ],
   "source": [
    "d"
   ]
  },
  {
   "cell_type": "code",
   "execution_count": 30,
   "id": "233aa7c2",
   "metadata": {},
   "outputs": [],
   "source": [
    "d[\"State\"]=\"California\"  # changing San Fan.... to califo..."
   ]
  },
  {
   "cell_type": "code",
   "execution_count": 31,
   "id": "640a0a44",
   "metadata": {},
   "outputs": [
    {
     "name": "stdout",
     "output_type": "stream",
     "text": [
      "{'Name': 'John', 'Age': 45, 'Location': 'UK', 'State': 'California'}\n"
     ]
    }
   ],
   "source": [
    "print(d)"
   ]
  },
  {
   "cell_type": "markdown",
   "id": "e9245cbc",
   "metadata": {},
   "source": [
    "The **update()** method will update the dictionary with the items from the given argument.\n",
    "\n",
    "The argument must be a dictionary, or an iterable object with key:value pairs."
   ]
  },
  {
   "cell_type": "code",
   "execution_count": 32,
   "id": "ce585cf2",
   "metadata": {},
   "outputs": [
    {
     "data": {
      "text/plain": [
       "{'Name': 'John', 'Age': 45, 'Location': 'UK', 'State': 'California'}"
      ]
     },
     "execution_count": 32,
     "metadata": {},
     "output_type": "execute_result"
    }
   ],
   "source": [
    "d"
   ]
  },
  {
   "cell_type": "code",
   "execution_count": 33,
   "id": "14d567f8",
   "metadata": {},
   "outputs": [],
   "source": [
    "d.update({\"Name\":\"Ravi\"})   # updating Name John to ravi"
   ]
  },
  {
   "cell_type": "code",
   "execution_count": 34,
   "id": "e7626a27",
   "metadata": {},
   "outputs": [
    {
     "data": {
      "text/plain": [
       "{'Name': 'Ravi', 'Age': 45, 'Location': 'UK', 'State': 'California'}"
      ]
     },
     "execution_count": 34,
     "metadata": {},
     "output_type": "execute_result"
    }
   ],
   "source": [
    "d"
   ]
  },
  {
   "cell_type": "markdown",
   "id": "a2a038ea",
   "metadata": {},
   "source": [
    "Removing"
   ]
  },
  {
   "cell_type": "code",
   "execution_count": 36,
   "id": "69597b8b",
   "metadata": {},
   "outputs": [
    {
     "data": {
      "text/plain": [
       "'California'"
      ]
     },
     "execution_count": 36,
     "metadata": {},
     "output_type": "execute_result"
    }
   ],
   "source": [
    "d.pop(\"State\")"
   ]
  },
  {
   "cell_type": "code",
   "execution_count": 37,
   "id": "dae2751a",
   "metadata": {},
   "outputs": [
    {
     "name": "stdout",
     "output_type": "stream",
     "text": [
      "{'Name': 'Ravi', 'Age': 45, 'Location': 'UK'}\n"
     ]
    }
   ],
   "source": [
    "print(d)"
   ]
  },
  {
   "cell_type": "code",
   "execution_count": 38,
   "id": "6104a92d",
   "metadata": {},
   "outputs": [],
   "source": [
    "del dit[\"Car\"]"
   ]
  },
  {
   "cell_type": "code",
   "execution_count": 39,
   "id": "1cc90658",
   "metadata": {},
   "outputs": [
    {
     "data": {
      "text/plain": [
       "{'Number': [1, 2, 3, 4, 5], 'color': ['Red', 'Orange', 'green']}"
      ]
     },
     "execution_count": 39,
     "metadata": {},
     "output_type": "execute_result"
    }
   ],
   "source": [
    "dit"
   ]
  },
  {
   "cell_type": "markdown",
   "id": "7d1f9191",
   "metadata": {},
   "source": [
    "**Loop**"
   ]
  },
  {
   "cell_type": "code",
   "execution_count": 42,
   "id": "f30d691e",
   "metadata": {},
   "outputs": [
    {
     "name": "stdout",
     "output_type": "stream",
     "text": [
      "Name\n",
      "Age\n",
      "Location\n"
     ]
    }
   ],
   "source": [
    "for x in d:    # print Keys()\n",
    "    print(x)"
   ]
  },
  {
   "cell_type": "code",
   "execution_count": 44,
   "id": "774b970d",
   "metadata": {},
   "outputs": [
    {
     "name": "stdout",
     "output_type": "stream",
     "text": [
      "Ravi\n",
      "45\n",
      "UK\n"
     ]
    }
   ],
   "source": [
    "for x in d:          # print values\n",
    "    print(d[x])"
   ]
  },
  {
   "cell_type": "code",
   "execution_count": 43,
   "id": "ce003f4c",
   "metadata": {},
   "outputs": [
    {
     "name": "stdout",
     "output_type": "stream",
     "text": [
      "Number\n",
      "color\n"
     ]
    }
   ],
   "source": [
    "for i in dit:           \n",
    "    print(i)"
   ]
  },
  {
   "cell_type": "code",
   "execution_count": 45,
   "id": "9db7d636",
   "metadata": {},
   "outputs": [
    {
     "name": "stdout",
     "output_type": "stream",
     "text": [
      "[1, 2, 3, 4, 5]\n",
      "['Red', 'Orange', 'green']\n"
     ]
    }
   ],
   "source": [
    "for i in dit:\n",
    "    print(dit[i])"
   ]
  },
  {
   "cell_type": "code",
   "execution_count": 46,
   "id": "b6a47dcf",
   "metadata": {},
   "outputs": [
    {
     "name": "stdout",
     "output_type": "stream",
     "text": [
      "[1, 2, 3, 4, 5]\n",
      "['Red', 'Orange', 'green']\n"
     ]
    }
   ],
   "source": [
    "for x in dit.values():\n",
    "    print(x)"
   ]
  },
  {
   "cell_type": "code",
   "execution_count": 47,
   "id": "65b48b2c",
   "metadata": {},
   "outputs": [
    {
     "name": "stdout",
     "output_type": "stream",
     "text": [
      "Ravi\n",
      "45\n",
      "UK\n"
     ]
    }
   ],
   "source": [
    "for i in d.values():\n",
    "    print(i)"
   ]
  },
  {
   "cell_type": "code",
   "execution_count": 49,
   "id": "105d8c14",
   "metadata": {},
   "outputs": [
    {
     "name": "stdout",
     "output_type": "stream",
     "text": [
      "Number [1, 2, 3, 4, 5]\n",
      "color ['Red', 'Orange', 'green']\n"
     ]
    }
   ],
   "source": [
    "for i,j in dit.items():\n",
    "    print(i,j)"
   ]
  },
  {
   "cell_type": "markdown",
   "id": "c527ffb6",
   "metadata": {},
   "source": [
    "Copy Dictionary"
   ]
  },
  {
   "cell_type": "code",
   "execution_count": 50,
   "id": "a1f8d414",
   "metadata": {},
   "outputs": [
    {
     "name": "stdout",
     "output_type": "stream",
     "text": [
      "{'Number': [1, 2, 3, 4, 5], 'color': ['Red', 'Orange', 'green']}\n"
     ]
    }
   ],
   "source": [
    "my_dict=dit.copy()\n",
    "\n",
    "print(my_dict)"
   ]
  },
  {
   "cell_type": "code",
   "execution_count": 52,
   "id": "b9a0c194",
   "metadata": {},
   "outputs": [
    {
     "name": "stdout",
     "output_type": "stream",
     "text": [
      "{'Name': 'Ravi', 'Age': 45, 'Location': 'UK'}\n"
     ]
    }
   ],
   "source": [
    "my_d=dict(d)\n",
    "\n",
    "print(my_d)"
   ]
  },
  {
   "cell_type": "code",
   "execution_count": 53,
   "id": "2ba55eb4",
   "metadata": {},
   "outputs": [
    {
     "data": {
      "text/plain": [
       "{'Name': 'Ravi', 'Age': 45, 'Location': 'UK'}"
      ]
     },
     "execution_count": 53,
     "metadata": {},
     "output_type": "execute_result"
    }
   ],
   "source": [
    "d"
   ]
  },
  {
   "cell_type": "code",
   "execution_count": 54,
   "id": "b2fd1a73",
   "metadata": {},
   "outputs": [
    {
     "data": {
      "text/plain": [
       "'UK'"
      ]
     },
     "execution_count": 54,
     "metadata": {},
     "output_type": "execute_result"
    }
   ],
   "source": [
    "d.pop(\"Location\")"
   ]
  },
  {
   "cell_type": "code",
   "execution_count": 55,
   "id": "e06ea03e",
   "metadata": {},
   "outputs": [
    {
     "name": "stdout",
     "output_type": "stream",
     "text": [
      "{'Name': 'Ravi', 'Age': 45}\n"
     ]
    }
   ],
   "source": [
    "print(d)"
   ]
  },
  {
   "cell_type": "code",
   "execution_count": null,
   "id": "56604f1e",
   "metadata": {},
   "outputs": [],
   "source": []
  }
 ],
 "metadata": {
  "kernelspec": {
   "display_name": "Python 3 (ipykernel)",
   "language": "python",
   "name": "python3"
  },
  "language_info": {
   "codemirror_mode": {
    "name": "ipython",
    "version": 3
   },
   "file_extension": ".py",
   "mimetype": "text/x-python",
   "name": "python",
   "nbconvert_exporter": "python",
   "pygments_lexer": "ipython3",
   "version": "3.9.13"
  }
 },
 "nbformat": 4,
 "nbformat_minor": 5
}
