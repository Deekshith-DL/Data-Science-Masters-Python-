{
 "cells": [
  {
   "cell_type": "markdown",
   "id": "f9cdc937",
   "metadata": {},
   "source": [
    "**Q1. Which keyword is used to create a function? Create a function to return a list of odd numbers in the\n",
    "range of 1 to 25.**"
   ]
  },
  {
   "cell_type": "raw",
   "id": "719fad6e",
   "metadata": {},
   "source": [
    "'def' is the keyword to create a function."
   ]
  },
  {
   "cell_type": "code",
   "execution_count": 1,
   "id": "b3b97144",
   "metadata": {},
   "outputs": [],
   "source": [
    "def odd():\n",
    "    l = []\n",
    "    for i in range(1,26):\n",
    "        if i % 2 != 0:\n",
    "            l.append(i)\n",
    "    return l\n",
    "            "
   ]
  },
  {
   "cell_type": "code",
   "execution_count": 2,
   "id": "52e947c3",
   "metadata": {},
   "outputs": [
    {
     "name": "stdout",
     "output_type": "stream",
     "text": [
      "[1, 3, 5, 7, 9, 11, 13, 15, 17, 19, 21, 23, 25]\n"
     ]
    }
   ],
   "source": [
    "lst= odd()\n",
    "print(lst)"
   ]
  },
  {
   "cell_type": "markdown",
   "id": "d5ef78e7",
   "metadata": {},
   "source": [
    "**Q2. Why *args and **kwargs is used in some functions? Create a function each for *args and **kwargs to demonstrate their use.**"
   ]
  },
  {
   "cell_type": "raw",
   "id": "fe5c7194",
   "metadata": {},
   "source": [
    "*args:\n",
    "     It allows you to pass any number of positional arguments to a function. \n",
    "    The arguments are passed as a tuple\n",
    "    \n",
    "**kwargs:\n",
    "    It allows you to pass any number of keyword arguments to a function. \n",
    "   The arguments are passed as a dictionary."
   ]
  },
  {
   "cell_type": "code",
   "execution_count": 9,
   "id": "20ea5751",
   "metadata": {},
   "outputs": [],
   "source": [
    "def demo(*args):\n",
    "    sum=0\n",
    "    for j in args:\n",
    "        sum+=j\n",
    "    return sum\n",
    "    "
   ]
  },
  {
   "cell_type": "code",
   "execution_count": 11,
   "id": "9e24189f",
   "metadata": {},
   "outputs": [
    {
     "name": "stdout",
     "output_type": "stream",
     "text": [
      "249\n"
     ]
    }
   ],
   "source": [
    "sum_of_numbers=demo(1,2,3,4,5,6,78,150)\n",
    "print(sum_of_numbers)"
   ]
  },
  {
   "cell_type": "markdown",
   "id": "ebb06485",
   "metadata": {},
   "source": [
    "**Q3. What is an iterator in python? Name the method used to initialise the iterator object and the method\n",
    "used for iteration. Use these methods to print the first five elements of the given list [2, 4, 6, 8, 10, 12, 14, 16,\n",
    "18, 20].**"
   ]
  },
  {
   "cell_type": "raw",
   "id": "6404dfbd",
   "metadata": {},
   "source": [
    " An iterator is an object that can be iterated (looped) upon, which means you can traverse through all the values. An iterator returns one value at a time, and maintains its state between calls"
   ]
  },
  {
   "cell_type": "code",
   "execution_count": 14,
   "id": "980a9079",
   "metadata": {},
   "outputs": [
    {
     "name": "stdout",
     "output_type": "stream",
     "text": [
      "2\n",
      "4\n",
      "6\n",
      "8\n",
      "10\n"
     ]
    }
   ],
   "source": [
    "lst = [2, 4, 6, 8, 10, 12, 14, 16, 18, 20]\n",
    "\n",
    "iter_obj = iter(lst)\n",
    "\n",
    "for i in range(5):\n",
    "    print(next(iter_obj))\n"
   ]
  },
  {
   "cell_type": "markdown",
   "id": "2b8261b9",
   "metadata": {},
   "source": [
    "**Q4. What is a generator function in python? Why yield keyword is used? Give an example of a generator\n",
    "function.**"
   ]
  },
  {
   "cell_type": "raw",
   "id": "a89c5156",
   "metadata": {},
   "source": [
    "A generator function in Python is a special type of function that returns an iterator object, which can be iterated over using a for loop or other iteration methods. Generator functions are defined using the 'def' keyword, just like regular functions, but they use the 'yield' keyword instead of return to produce a series of values."
   ]
  },
  {
   "cell_type": "raw",
   "id": "a9825d60",
   "metadata": {},
   "source": [
    "The 'yield' keyword is used in a generator function to return a value from the generator and temporarily suspend the execution of the function. The next time the generator is iterated over, the function resumes execution from where it left off and produces the next value in the series."
   ]
  },
  {
   "cell_type": "code",
   "execution_count": 20,
   "id": "321a5916",
   "metadata": {},
   "outputs": [],
   "source": [
    "def even(n):\n",
    "    for i in range(n):\n",
    "        if i% 2 == 0:\n",
    "            yield i"
   ]
  },
  {
   "cell_type": "code",
   "execution_count": 25,
   "id": "0f213bbb",
   "metadata": {},
   "outputs": [
    {
     "name": "stdout",
     "output_type": "stream",
     "text": [
      "0\n",
      "2\n",
      "4\n",
      "6\n",
      "8\n",
      "10\n",
      "12\n",
      "14\n"
     ]
    }
   ],
   "source": [
    "for i in even(15):\n",
    "    print(i)"
   ]
  },
  {
   "cell_type": "markdown",
   "id": "e81ffa8c",
   "metadata": {},
   "source": [
    "**Q5. Create a generator function for prime numbers less than 1000. Use the next() method to print the\n",
    "first 20 prime numbers.**"
   ]
  },
  {
   "cell_type": "code",
   "execution_count": 30,
   "id": "994daaa7",
   "metadata": {},
   "outputs": [],
   "source": [
    "def generate_prime_numbers():\n",
    "    for num in range(2, 1000):\n",
    "\n",
    "        is_prime = True\n",
    "        for i in range(2, int(num ** 0.5) + 1):\n",
    "            if num % i == 0:\n",
    "                is_prime = False\n",
    "                break\n",
    "        if is_prime:\n",
    "            yield num\n"
   ]
  },
  {
   "cell_type": "code",
   "execution_count": 31,
   "id": "17e7b5ad",
   "metadata": {},
   "outputs": [
    {
     "name": "stdout",
     "output_type": "stream",
     "text": [
      "2\n",
      "3\n",
      "5\n",
      "7\n",
      "11\n",
      "13\n",
      "17\n",
      "19\n",
      "23\n",
      "29\n",
      "31\n",
      "37\n",
      "41\n",
      "43\n",
      "47\n",
      "53\n",
      "59\n",
      "61\n",
      "67\n",
      "71\n"
     ]
    }
   ],
   "source": [
    "prime_gen = generate_prime_numbers()\n",
    "for i in range(20):\n",
    "    print(next(prime_gen))\n"
   ]
  }
 ],
 "metadata": {
  "kernelspec": {
   "display_name": "Python 3 (ipykernel)",
   "language": "python",
   "name": "python3"
  },
  "language_info": {
   "codemirror_mode": {
    "name": "ipython",
    "version": 3
   },
   "file_extension": ".py",
   "mimetype": "text/x-python",
   "name": "python",
   "nbconvert_exporter": "python",
   "pygments_lexer": "ipython3",
   "version": "3.9.13"
  }
 },
 "nbformat": 4,
 "nbformat_minor": 5
}
