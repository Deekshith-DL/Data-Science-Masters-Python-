{
 "cells": [
  {
   "cell_type": "markdown",
   "id": "c2813404",
   "metadata": {},
   "source": [
    "# Assignment on Tuples_List_Dictionary"
   ]
  },
  {
   "cell_type": "markdown",
   "id": "4eb993e8",
   "metadata": {},
   "source": [
    "**1.What are the characteristics of the tuples? Is tuple immutable?**"
   ]
  },
  {
   "cell_type": "raw",
   "id": "6a3ec22f",
   "metadata": {},
   "source": [
    "a.Tuples are used to store multiple items in a single variable.\n",
    "b.Tuples are written with round brackets.\n",
    "c.Tuple items are ordered, unchangeable, and allow duplicate values.\n",
    "\n",
    "Yes, Tuple are Immutable."
   ]
  },
  {
   "cell_type": "markdown",
   "id": "21490a5c",
   "metadata": {},
   "source": [
    "**2. What are the two tuple methods in python? Give an example of each method. Give a reason why\n",
    "tuples have only two in-built methods as compared to Lists.**"
   ]
  },
  {
   "cell_type": "raw",
   "id": "53b11d12",
   "metadata": {},
   "source": [
    "Tuple Methods:\n",
    "\n",
    "count()\t-->Returns the number of times a specified value occurs in a tuple\n",
    "index()\t-->Searches the tuple for a specified value and returns the position of where it was found\n",
    "\n",
    "Syntax: \n",
    "    Count() --> tuple.count(value)\n",
    "    value\tRequired. The item to search for.\n",
    "   \n",
    "    index() --> tuple.index(value)\n",
    "    value\tRequired. The item to search for.\n",
    "    "
   ]
  },
  {
   "cell_type": "code",
   "execution_count": 1,
   "id": "4fa0eece",
   "metadata": {},
   "outputs": [
    {
     "data": {
      "text/plain": [
       "2"
      ]
     },
     "execution_count": 1,
     "metadata": {},
     "output_type": "execute_result"
    }
   ],
   "source": [
    "#Example For Count():\n",
    "my_tup = (1, 3, 7, 8, 7, 5, 4, 6, 8, 5)\n",
    "\n",
    "my_tup.count(5)\n"
   ]
  },
  {
   "cell_type": "code",
   "execution_count": 2,
   "id": "d31a54a4",
   "metadata": {},
   "outputs": [
    {
     "data": {
      "text/plain": [
       "1"
      ]
     },
     "execution_count": 2,
     "metadata": {},
     "output_type": "execute_result"
    }
   ],
   "source": [
    "#Example for index():\n",
    "\n",
    "my_tup.index(3)"
   ]
  },
  {
   "cell_type": "raw",
   "id": "906da47d",
   "metadata": {},
   "source": [
    "a.We generally use tuples for heterogeneous (different) data types and lists for homogeneous (similar) data types.\n",
    "\n",
    "b.Since tuples are immutable, iterating through a tuple is faster than with a list. So there is a slight performance boost.\n",
    "\n",
    "c.Tuples that contain immutable elements can be used as a key for a dictionary. With lists, this is not possible.\n",
    "\n",
    "d.If you have data that doesn't change, implementing it as tuple will guarantee that it remains write-protected."
   ]
  },
  {
   "cell_type": "markdown",
   "id": "aec1a53d",
   "metadata": {},
   "source": [
    "**3. Which collection datatypes in python do not allow duplicate items? Write a code using a set to remove\n",
    "duplicates from the given list.**\n",
    "\n",
    "List = [1, 1, 1, 2, 1, 3, 1, 4, 2, 1, 2, 2, 2, 3, 2, 4, 3, 1, 3, 2, 3, 3, 3, 4, 4, 1, 4, 2, 4, 3, 4, 4]"
   ]
  },
  {
   "cell_type": "raw",
   "id": "45187d5e",
   "metadata": {},
   "source": [
    "--> Set Data type don't allow duplicate items."
   ]
  },
  {
   "cell_type": "code",
   "execution_count": 3,
   "id": "8ae42e41",
   "metadata": {},
   "outputs": [],
   "source": [
    "my_set=set( [1, 1, 1, 2, 1, 3, 1, 4, 2, 1, 2, 2, 2, 3, 2, 4, 3, 1, 3, 2, 3, 3, 3, 4, 4, 1, 4, 2, 4, 3, 4, 4])"
   ]
  },
  {
   "cell_type": "code",
   "execution_count": 5,
   "id": "3c3a54fe",
   "metadata": {},
   "outputs": [
    {
     "data": {
      "text/plain": [
       "{1, 2, 3, 4}"
      ]
     },
     "execution_count": 5,
     "metadata": {},
     "output_type": "execute_result"
    }
   ],
   "source": [
    "my_set"
   ]
  },
  {
   "cell_type": "markdown",
   "id": "fbe84ee3",
   "metadata": {},
   "source": [
    "**4. Explain the difference between the union() and update() methods for a set. Give an example of\n",
    "each method.**"
   ]
  },
  {
   "cell_type": "raw",
   "id": "fd5144b0",
   "metadata": {},
   "source": [
    "Union():\n",
    "\n",
    "a.The union() method returns a set that contains all items from the original set, and all items from the specified set(s).\n",
    "b.You can specify as many sets you want, separated by commas.\n",
    "c.It does not have to be a set, it can be any iterable object.\n",
    "d.If an item is present in more than one set, the result will contain only one appearance of this item"
   ]
  },
  {
   "cell_type": "code",
   "execution_count": 8,
   "id": "44ec35c5",
   "metadata": {},
   "outputs": [
    {
     "name": "stdout",
     "output_type": "stream",
     "text": [
      "{'Lion', 'Dog', 'Cat', 'Tiger', 'Bear', 'Elephant', 'Goat', 'Cow'}\n"
     ]
    }
   ],
   "source": [
    "#Example for Union():\n",
    "\n",
    "a = {'Cat','Dog','Cow','Goat'}\n",
    "b = {'Lion','Tiger','Elephant','Bear'}\n",
    "\n",
    "c = a.union(b)\n",
    "\n",
    "print(c)"
   ]
  },
  {
   "cell_type": "markdown",
   "id": "ba518486",
   "metadata": {},
   "source": [
    "Update():\n",
    "    \n",
    "a.The update() method updates the current set, by adding items from another set (or any other iterable).\n",
    "b.If an item is present in both sets, only one appearance of this item will be present in the updated set.    "
   ]
  },
  {
   "cell_type": "code",
   "execution_count": 10,
   "id": "bad1743a",
   "metadata": {},
   "outputs": [
    {
     "name": "stdout",
     "output_type": "stream",
     "text": [
      "{'carrot', 'Banana', 'apple', 'Potato', 'Tomato'}\n"
     ]
    }
   ],
   "source": [
    "m = {\"apple\",'Banana','carrot'}\n",
    "n = {'Tomato','carrot','Potato'}\n",
    "\n",
    "m.update(n)                         #Carrot updated once \n",
    "print(m)"
   ]
  },
  {
   "cell_type": "markdown",
   "id": "84a6c7f3",
   "metadata": {},
   "source": [
    "**5. What is a dictionary? Give an example. Also, state whether a dictionary is ordered or unordered.**"
   ]
  },
  {
   "cell_type": "raw",
   "id": "51524154",
   "metadata": {},
   "source": [
    "Dictionaries are used to store data values in key:value pairs.\n",
    "\n",
    "A dictionary is a collection which is ordered*, changeable and do not allow duplicates."
   ]
  },
  {
   "cell_type": "code",
   "execution_count": 12,
   "id": "fe8f6b7e",
   "metadata": {},
   "outputs": [
    {
     "name": "stdout",
     "output_type": "stream",
     "text": [
      "{'Name': 'Jack', 'Age': 20, 'Location': 'UK'}\n",
      "<class 'dict'>\n",
      "dict_keys(['Name', 'Age', 'Location'])\n",
      "dict_values(['Jack', 20, 'UK'])\n",
      "dict_items([('Name', 'Jack'), ('Age', 20), ('Location', 'UK')])\n"
     ]
    }
   ],
   "source": [
    "#Example:\n",
    "\n",
    "my_dict = {\"Name\":\"Jack\",\"Age\":20,\"Location\":\"UK\"}\n",
    "\n",
    "print(my_dict)\n",
    "print(type(my_dict))\n",
    "print(my_dict.keys())\n",
    "print(my_dict.values())\n",
    "print(my_dict.items())"
   ]
  },
  {
   "cell_type": "markdown",
   "id": "b4087a3d",
   "metadata": {},
   "source": [
    "**6. Can we create a nested dictionary? If so, please give an example by creating a simple one-level\n",
    "nested dictionary.**"
   ]
  },
  {
   "cell_type": "raw",
   "id": "b6d999d1",
   "metadata": {},
   "source": [
    "Yes, we can crete Nested Dictionary.\n",
    "A dictionary can contain dictionaries, this is called nested dictionaries."
   ]
  },
  {
   "cell_type": "code",
   "execution_count": 14,
   "id": "84032c32",
   "metadata": {},
   "outputs": [
    {
     "name": "stdout",
     "output_type": "stream",
     "text": [
      "{'Name': 'Raju', 'Age': 20, 'Location': 'USA'}\n"
     ]
    }
   ],
   "source": [
    "nest_dict = {\"Person_1\":{\"Name\":\"Raju\",\"Age\":20,\"Location\":\"USA\"}, \n",
    "             \"Person_2\":{\"Name\":\"Mubarak\",\"Age\":22,\"Location\":\"UAE\"}}\n",
    "\n",
    "print(nest_dict[\"Person_1\"])"
   ]
  },
  {
   "cell_type": "code",
   "execution_count": 15,
   "id": "9af00d72",
   "metadata": {},
   "outputs": [
    {
     "name": "stdout",
     "output_type": "stream",
     "text": [
      "Mubarak\n"
     ]
    }
   ],
   "source": [
    "print(nest_dict[\"Person_2\"][\"Name\"])"
   ]
  },
  {
   "cell_type": "markdown",
   "id": "c26e6534",
   "metadata": {},
   "source": [
    "**Q7. Using setdefault() method, create key named topics in the given dictionary and also add the value of\n",
    "the key as this list ['Python', 'Machine Learning’, 'Deep Learning']**\n",
    "\n",
    "dict1 = {'language' : 'Python', 'course': 'Data Science Masters'}"
   ]
  },
  {
   "cell_type": "code",
   "execution_count": 1,
   "id": "399c8f2d",
   "metadata": {},
   "outputs": [
    {
     "data": {
      "text/plain": [
       "['Python', 'machine Learning', 'deep Learning']"
      ]
     },
     "execution_count": 1,
     "metadata": {},
     "output_type": "execute_result"
    }
   ],
   "source": [
    "dict1 = {'language' : 'Python', 'course': 'Data Science Masters'}\n",
    "topics= ['Python','machine Learning','deep Learning']\n",
    "\n",
    "dict1.setdefault(\" Topics\" ,topics)"
   ]
  },
  {
   "cell_type": "code",
   "execution_count": 2,
   "id": "b7136c41",
   "metadata": {},
   "outputs": [
    {
     "data": {
      "text/plain": [
       "{'language': 'Python',\n",
       " 'course': 'Data Science Masters',\n",
       " ' Topics': ['Python', 'machine Learning', 'deep Learning']}"
      ]
     },
     "execution_count": 2,
     "metadata": {},
     "output_type": "execute_result"
    }
   ],
   "source": [
    "dict1"
   ]
  },
  {
   "cell_type": "markdown",
   "id": "936ecf08",
   "metadata": {},
   "source": [
    "**8. What are the three view objects in dictionaries? Use the three in-built methods in python to display\n",
    "these three view objects for the given dictionary.**\n",
    "\n",
    "dict1 = {'Sport': 'Cricket' , 'Teams': ['India', 'Australia', 'England', 'South Africa', 'Sri Lanka', 'New Zealand']}"
   ]
  },
  {
   "cell_type": "raw",
   "id": "270bfd2d",
   "metadata": {},
   "source": [
    "a.dict.keys()\n",
    "b.dict.values()\n",
    "c.dict.items()"
   ]
  },
  {
   "cell_type": "code",
   "execution_count": 4,
   "id": "e72c1216",
   "metadata": {},
   "outputs": [],
   "source": [
    "dict2 = {'Sport': 'Cricket' ,\n",
    "         'Teams': ['India', 'Australia', 'England', 'South Africa', 'Sri Lanka', 'New Zealand']}\n"
   ]
  },
  {
   "cell_type": "code",
   "execution_count": 5,
   "id": "72d5e3af",
   "metadata": {},
   "outputs": [
    {
     "data": {
      "text/plain": [
       "dict_keys(['Sport', 'Teams'])"
      ]
     },
     "execution_count": 5,
     "metadata": {},
     "output_type": "execute_result"
    }
   ],
   "source": [
    "dict2.keys()"
   ]
  },
  {
   "cell_type": "code",
   "execution_count": 6,
   "id": "ef13e91f",
   "metadata": {},
   "outputs": [
    {
     "data": {
      "text/plain": [
       "dict_values(['Cricket', ['India', 'Australia', 'England', 'South Africa', 'Sri Lanka', 'New Zealand']])"
      ]
     },
     "execution_count": 6,
     "metadata": {},
     "output_type": "execute_result"
    }
   ],
   "source": [
    "dict2.values()"
   ]
  },
  {
   "cell_type": "code",
   "execution_count": 7,
   "id": "be3bb61b",
   "metadata": {},
   "outputs": [
    {
     "data": {
      "text/plain": [
       "dict_items([('Sport', 'Cricket'), ('Teams', ['India', 'Australia', 'England', 'South Africa', 'Sri Lanka', 'New Zealand'])])"
      ]
     },
     "execution_count": 7,
     "metadata": {},
     "output_type": "execute_result"
    }
   ],
   "source": [
    "dict2.items()"
   ]
  }
 ],
 "metadata": {
  "kernelspec": {
   "display_name": "Python 3 (ipykernel)",
   "language": "python",
   "name": "python3"
  },
  "language_info": {
   "codemirror_mode": {
    "name": "ipython",
    "version": 3
   },
   "file_extension": ".py",
   "mimetype": "text/x-python",
   "name": "python",
   "nbconvert_exporter": "python",
   "pygments_lexer": "ipython3",
   "version": "3.9.13"
  }
 },
 "nbformat": 4,
 "nbformat_minor": 5
}
