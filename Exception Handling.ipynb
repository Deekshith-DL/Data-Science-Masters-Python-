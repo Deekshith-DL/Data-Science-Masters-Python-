{
 "cells": [
  {
   "cell_type": "markdown",
   "id": "e38a8df6",
   "metadata": {},
   "source": [
    "# Exception Handling"
   ]
  },
  {
   "cell_type": "markdown",
   "id": "5236cc34",
   "metadata": {},
   "source": [
    "1. An Exception in Python is an event that occurs during the execution of a program that disrupts the normal flow of the program's instructions. Exceptions can be caused by various factors such as invalid user input, file not found, division by zero, etc. \n",
    "\n",
    "   The difference between Exceptions and Syntax errors:\n",
    "   - Exceptions occur during the execution of a program, while Syntax errors occur during the parsing of code, before the program starts running.\n",
    "   - Exceptions can be handled using `try` and `except` blocks, while Syntax errors need to be fixed in the code before execution."
   ]
  },
  {
   "cell_type": "markdown",
   "id": "49c08b07",
   "metadata": {},
   "source": [
    "2. When an exception is not handled, it propagates up the call stack until it reaches the top-level of the program. If it is not handled there, the program terminates abruptly, and an error message is displayed. For example:\n"
   ]
  },
  {
   "cell_type": "code",
   "execution_count": 2,
   "id": "62d494a3",
   "metadata": {},
   "outputs": [
    {
     "ename": "ZeroDivisionError",
     "evalue": "division by zero",
     "output_type": "error",
     "traceback": [
      "\u001b[1;31m---------------------------------------------------------------------------\u001b[0m",
      "\u001b[1;31mZeroDivisionError\u001b[0m                         Traceback (most recent call last)",
      "\u001b[1;32m~\\AppData\\Local\\Temp\\ipykernel_4192\\899532687.py\u001b[0m in \u001b[0;36m<module>\u001b[1;34m\u001b[0m\n\u001b[0;32m      2\u001b[0m     \u001b[1;32mreturn\u001b[0m \u001b[0ma\u001b[0m \u001b[1;33m/\u001b[0m \u001b[0mb\u001b[0m\u001b[1;33m\u001b[0m\u001b[1;33m\u001b[0m\u001b[0m\n\u001b[0;32m      3\u001b[0m \u001b[1;33m\u001b[0m\u001b[0m\n\u001b[1;32m----> 4\u001b[1;33m \u001b[0mresult\u001b[0m \u001b[1;33m=\u001b[0m \u001b[0mdivide\u001b[0m\u001b[1;33m(\u001b[0m\u001b[1;36m5\u001b[0m\u001b[1;33m,\u001b[0m \u001b[1;36m0\u001b[0m\u001b[1;33m)\u001b[0m\u001b[1;33m\u001b[0m\u001b[1;33m\u001b[0m\u001b[0m\n\u001b[0m\u001b[0;32m      5\u001b[0m \u001b[0mprint\u001b[0m\u001b[1;33m(\u001b[0m\u001b[0mresult\u001b[0m\u001b[1;33m)\u001b[0m\u001b[1;33m\u001b[0m\u001b[1;33m\u001b[0m\u001b[0m\n",
      "\u001b[1;32m~\\AppData\\Local\\Temp\\ipykernel_4192\\899532687.py\u001b[0m in \u001b[0;36mdivide\u001b[1;34m(a, b)\u001b[0m\n\u001b[0;32m      1\u001b[0m \u001b[1;32mdef\u001b[0m \u001b[0mdivide\u001b[0m\u001b[1;33m(\u001b[0m\u001b[0ma\u001b[0m\u001b[1;33m,\u001b[0m \u001b[0mb\u001b[0m\u001b[1;33m)\u001b[0m\u001b[1;33m:\u001b[0m\u001b[1;33m\u001b[0m\u001b[1;33m\u001b[0m\u001b[0m\n\u001b[1;32m----> 2\u001b[1;33m     \u001b[1;32mreturn\u001b[0m \u001b[0ma\u001b[0m \u001b[1;33m/\u001b[0m \u001b[0mb\u001b[0m\u001b[1;33m\u001b[0m\u001b[1;33m\u001b[0m\u001b[0m\n\u001b[0m\u001b[0;32m      3\u001b[0m \u001b[1;33m\u001b[0m\u001b[0m\n\u001b[0;32m      4\u001b[0m \u001b[0mresult\u001b[0m \u001b[1;33m=\u001b[0m \u001b[0mdivide\u001b[0m\u001b[1;33m(\u001b[0m\u001b[1;36m5\u001b[0m\u001b[1;33m,\u001b[0m \u001b[1;36m0\u001b[0m\u001b[1;33m)\u001b[0m\u001b[1;33m\u001b[0m\u001b[1;33m\u001b[0m\u001b[0m\n\u001b[0;32m      5\u001b[0m \u001b[0mprint\u001b[0m\u001b[1;33m(\u001b[0m\u001b[0mresult\u001b[0m\u001b[1;33m)\u001b[0m\u001b[1;33m\u001b[0m\u001b[1;33m\u001b[0m\u001b[0m\n",
      "\u001b[1;31mZeroDivisionError\u001b[0m: division by zero"
     ]
    }
   ],
   "source": [
    "def divide(a, b):\n",
    "    return a / b\n",
    "\n",
    "result = divide(5, 0)\n",
    "print(result)"
   ]
  },
  {
   "cell_type": "code",
   "execution_count": 1,
   "id": "4ec43b7e",
   "metadata": {},
   "outputs": [],
   "source": [
    "#dividing by zero raises a `ZeroDivisionError` exception. Since this exception is not handled."
   ]
  },
  {
   "cell_type": "markdown",
   "id": "f27f18dd",
   "metadata": {},
   "source": [
    "3. The Python statements used to catch and handle exceptions are `try` and `except`. Here's an example:"
   ]
  },
  {
   "cell_type": "code",
   "execution_count": 3,
   "id": "21db4d0f",
   "metadata": {},
   "outputs": [
    {
     "name": "stdout",
     "output_type": "stream",
     "text": [
      "Error: Division by zero\n"
     ]
    }
   ],
   "source": [
    "try:\n",
    "    result = 10 / 0\n",
    "except ZeroDivisionError:\n",
    "    print(\"Error: Division by zero\")\n",
    "\n",
    "\n",
    "#In this example, the `try` block attempts to execute the code that may raise an exception. If an exception occurs, it is caught by the `except` block, and the appropriate error message is printed."
   ]
  },
  {
   "cell_type": "markdown",
   "id": "df39f5c2",
   "metadata": {},
   "source": [
    "4. Examples:\n",
    "   a. `try` and `else`:"
   ]
  },
  {
   "cell_type": "code",
   "execution_count": null,
   "id": "00a973fa",
   "metadata": {},
   "outputs": [],
   "source": [
    "try:\n",
    "    result = 10 / 2\n",
    "except ZeroDivisionError:\n",
    "    print(\"Error: Division by zero\")\n",
    "else:\n",
    "    print(\"Result:\", result)\n",
    "\n",
    "\n",
    "#In this example, if no exception occurs in the `try` block, the `else` block is executed, which prints the result."
   ]
  },
  {
   "cell_type": "markdown",
   "id": "0e4c9838",
   "metadata": {},
   "source": [
    "b. `finally`:"
   ]
  },
  {
   "cell_type": "code",
   "execution_count": 4,
   "id": "ae1d3601",
   "metadata": {},
   "outputs": [
    {
     "name": "stdout",
     "output_type": "stream",
     "text": [
      "Error: Division by zero\n",
      "Execution complete\n"
     ]
    }
   ],
   "source": [
    "try:\n",
    "    result = 10 / 0\n",
    "except ZeroDivisionError:\n",
    "    print(\"Error: Division by zero\")\n",
    "finally:\n",
    "    print(\"Execution complete\")\n",
    "\n",
    "#In this example, the `finally` block is always executed, regardless of whether an exception occurs or not. It is typically used for cleanup operations.\n"
   ]
  },
  {
   "cell_type": "markdown",
   "id": "24efb73f",
   "metadata": {},
   "source": [
    "c. `raise`:"
   ]
  },
  {
   "cell_type": "code",
   "execution_count": 5,
   "id": "2b5eeaf5",
   "metadata": {},
   "outputs": [
    {
     "name": "stdout",
     "output_type": "stream",
     "text": [
      "Age cannot be negative\n"
     ]
    }
   ],
   "source": [
    "def check_age(age):\n",
    "    if age < 0:\n",
    "        raise ValueError(\"Age cannot be negative\")\n",
    "\n",
    "try:\n",
    "    check_age(-5)\n",
    "except ValueError as e:\n",
    "    print(e)\n",
    "\n",
    "\n",
    "#In this example, the `raise` statement is used to raise a `ValueError` if the age is negative."
   ]
  },
  {
   "cell_type": "markdown",
   "id": "e45eec97",
   "metadata": {},
   "source": [
    "5. Custom Exceptions in Python are user-defined exceptions that allow developers to create their own exception classes to handle specific error scenarios in their code. We need Custom Exceptions to provide meaningful error messages and to differentiate between different types of errors."
   ]
  },
  {
   "cell_type": "code",
   "execution_count": 6,
   "id": "1abb84db",
   "metadata": {},
   "outputs": [
    {
     "name": "stdout",
     "output_type": "stream",
     "text": [
      "Invalid input. Integer value expected.\n"
     ]
    }
   ],
   "source": [
    "class CustomError(Exception):\n",
    "    pass\n",
    "\n",
    "def validate_input(value):\n",
    "    if not isinstance(value, int):\n",
    "        raise CustomError(\"Invalid input. Integer value expected.\")\n",
    "\n",
    "try:\n",
    "    validate_input('abc')\n",
    "except CustomError as e:\n",
    "    print(e)\n",
    "    \n",
    "    "
   ]
  },
  {
   "cell_type": "code",
   "execution_count": 7,
   "id": "2500ef24",
   "metadata": {},
   "outputs": [],
   "source": [
    "#In this example, a custom exception class `CustomError` is defined, and the `validate_input` function raises this exception if the input is not an integer.\n"
   ]
  },
  {
   "cell_type": "markdown",
   "id": "ce238051",
   "metadata": {},
   "source": [
    "6. Custom exception class example:"
   ]
  },
  {
   "cell_type": "code",
   "execution_count": 9,
   "id": "f70db7d4",
   "metadata": {},
   "outputs": [
    {
     "name": "stdout",
     "output_type": "stream",
     "text": [
      "Error: Division by zero is not allowed\n"
     ]
    }
   ],
   "source": [
    "\n",
    "class CustomError(Exception):\n",
    "    def __init__(self, message):\n",
    "        self.message = message\n",
    "\n",
    "def divide(a, b):\n",
    "    if b == 0:\n",
    "        raise CustomError(\"Division by zero is not allowed\")\n",
    "    return a / b\n",
    "\n",
    "try:\n",
    "    result = divide(10, 0)\n",
    "except CustomError as e:\n",
    "    print(\"Error:\", e.message)\n",
    "    \n",
    "\n",
    "#In this example, a custom exception class `CustomError` is defined with a constructor to accept a message. The `divide` function raises this exception if the divisor is zero. The exception is then caught and handled in a `try-except` block."
   ]
  },
  {
   "cell_type": "code",
   "execution_count": null,
   "id": "d12abafd",
   "metadata": {},
   "outputs": [],
   "source": []
  },
  {
   "cell_type": "code",
   "execution_count": null,
   "id": "5ecc3672",
   "metadata": {},
   "outputs": [],
   "source": []
  },
  {
   "cell_type": "code",
   "execution_count": null,
   "id": "f31f34b3",
   "metadata": {},
   "outputs": [],
   "source": []
  },
  {
   "cell_type": "code",
   "execution_count": null,
   "id": "54615a69",
   "metadata": {},
   "outputs": [],
   "source": []
  }
 ],
 "metadata": {
  "kernelspec": {
   "display_name": "Python 3 (ipykernel)",
   "language": "python",
   "name": "python3"
  },
  "language_info": {
   "codemirror_mode": {
    "name": "ipython",
    "version": 3
   },
   "file_extension": ".py",
   "mimetype": "text/x-python",
   "name": "python",
   "nbconvert_exporter": "python",
   "pygments_lexer": "ipython3",
   "version": "3.9.13"
  }
 },
 "nbformat": 4,
 "nbformat_minor": 5
}
