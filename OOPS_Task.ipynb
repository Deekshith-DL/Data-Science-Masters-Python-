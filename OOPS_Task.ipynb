{
 "cells": [
  {
   "cell_type": "markdown",
   "id": "2a921233",
   "metadata": {},
   "source": [
    "**Q1, Create a vehicle class with an init method having instance variables as name_of_vehicle, max_speed\n",
    "and average_of_vehicle.**"
   ]
  },
  {
   "cell_type": "code",
   "execution_count": 1,
   "id": "983de4df",
   "metadata": {},
   "outputs": [],
   "source": [
    "class Vehicle:\n",
    "    def __init__(self, name_of_vehicle, max_speed, average_of_vehicle):\n",
    "        self.name_of_vehicle = name_of_vehicle\n",
    "        self.max_speed = max_speed\n",
    "        self.average_of_vehicle = average_of_vehicle\n"
   ]
  },
  {
   "cell_type": "code",
   "execution_count": 2,
   "id": "303483b0",
   "metadata": {},
   "outputs": [],
   "source": [
    "car = Vehicle(\"Ford Mustang\", 250, 20)\n",
    "bike = Vehicle(\"Honda CB Shine\", 120, 60)\n"
   ]
  },
  {
   "cell_type": "code",
   "execution_count": 3,
   "id": "26ef675b",
   "metadata": {},
   "outputs": [
    {
     "name": "stdout",
     "output_type": "stream",
     "text": [
      "Ford Mustang\n",
      "120\n"
     ]
    }
   ],
   "source": [
    "print(car.name_of_vehicle)\n",
    "print(bike.max_speed)\n"
   ]
  },
  {
   "cell_type": "markdown",
   "id": "bc3d292a",
   "metadata": {},
   "source": [
    "**Q2. Create a child class car from the vehicle class created in Que 1, which will inherit the vehicle class.\n",
    "Create a method named seating_capacity which takes capacity as an argument and returns the name of\n",
    "the vehicle and its seating capacity.**"
   ]
  },
  {
   "cell_type": "code",
   "execution_count": 11,
   "id": "426697ed",
   "metadata": {},
   "outputs": [
    {
     "data": {
      "text/plain": [
       "<__main__.Vehicle at 0x16db36fecd0>"
      ]
     },
     "execution_count": 11,
     "metadata": {},
     "output_type": "execute_result"
    }
   ],
   "source": [
    "class Vehicle:\n",
    "    def __init__(self, name_of_vehicle, max_speed, average_of_vehicle):\n",
    "        self.name_of_vehicle = name_of_vehicle\n",
    "        self.max_speed = max_speed\n",
    "        self.average_of_vehicle = average_of_vehicle\n",
    "\n",
    "\n",
    "class Car(Vehicle):\n",
    "    def seating_capacity(self, capacity):\n",
    "        return f\"{self.name_of_vehicle} has a seating capacity of {capacity} people\"\n",
    "\n",
    "Vehicle(\"Ford Mustang\", 250, 20)"
   ]
  },
  {
   "cell_type": "markdown",
   "id": "6de649d6",
   "metadata": {},
   "source": [
    "**Q3. What is multiple inheritance? Write a python code to demonstrate multiple inheritance.**"
   ]
  },
  {
   "cell_type": "raw",
   "id": "f211fa6c",
   "metadata": {},
   "source": [
    "Multiple inheritance is a feature of object-oriented programming \n",
    "where a subclass can inherit attributes and methods from multiple parent classes."
   ]
  },
  {
   "cell_type": "code",
   "execution_count": 13,
   "id": "e1f3f67a",
   "metadata": {},
   "outputs": [
    {
     "name": "stdout",
     "output_type": "stream",
     "text": [
      "Name: John\n",
      "Age: 40\n",
      "Employee ID: M001\n",
      "Salary: 80000\n",
      "Department: Sales\n"
     ]
    }
   ],
   "source": [
    "class Person:\n",
    "    def __init__(self, name, age):\n",
    "        self.name = name\n",
    "        self.age = age\n",
    "    \n",
    "    def display_info(self):\n",
    "        print(f\"Name: {self.name}\\nAge: {self.age}\")\n",
    "        \n",
    "        \n",
    "class Employee:\n",
    "    def __init__(self, emp_id, salary):\n",
    "        self.emp_id = emp_id\n",
    "        self.salary = salary\n",
    "        \n",
    "    def display_info(self):\n",
    "        print(f\"Employee ID: {self.emp_id}\\nSalary: {self.salary}\")\n",
    "        \n",
    "        \n",
    "class Manager(Person, Employee):\n",
    "    def __init__(self, name, age, emp_id, salary, department):\n",
    "        Person.__init__(self, name, age)\n",
    "        Employee.__init__(self, emp_id, salary)\n",
    "        self.department = department\n",
    "    \n",
    "    def display_info(self):\n",
    "        print(f\"Name: {self.name}\\nAge: {self.age}\\nEmployee ID: {self.emp_id}\\nSalary: {self.salary}\\nDepartment: {self.department}\")\n",
    "\n",
    "\n",
    "\n",
    "manager = Manager(\"John\", 40, \"M001\", 80000, \"Sales\")\n",
    "\n",
    "\n",
    "manager.display_info()\n"
   ]
  },
  {
   "cell_type": "markdown",
   "id": "e2acfe86",
   "metadata": {},
   "source": [
    "**Q4. What are getter and setter in python? Create a class and create a getter and a setter method in this\n",
    "class.**"
   ]
  },
  {
   "cell_type": "raw",
   "id": "f743333e",
   "metadata": {},
   "source": [
    "In Python, getter and setter methods are used to access and modify the private attributes of a class.\n",
    "\n",
    "Getter method is a method that retrieves the value of a private attribute. It is also called accessor method.\n",
    "\n",
    "Setter method is a method that modifies the value of a private attribute. It is also called mutator method."
   ]
  },
  {
   "cell_type": "code",
   "execution_count": 14,
   "id": "68c56520",
   "metadata": {},
   "outputs": [],
   "source": [
    "class Person:\n",
    "    \n",
    "    def __init__(self, name, age):\n",
    "        self._name = name\n",
    "        self._age = age\n",
    "    \n",
    "    def get_name(self):\n",
    "        return self._name\n",
    "    \n",
    "    def set_name(self, name):\n",
    "        self._name = name\n",
    "    \n",
    "    def get_age(self):\n",
    "        return self._age\n",
    "    \n",
    "    def set_age(self, age):\n",
    "        self._age = age\n"
   ]
  },
  {
   "cell_type": "markdown",
   "id": "94a6abeb",
   "metadata": {},
   "source": [
    "**Q5.What is method overriding in python? Write a python code to demonstrate method overriding.**"
   ]
  },
  {
   "cell_type": "raw",
   "id": "066870bc",
   "metadata": {},
   "source": [
    "Method overriding is a concept in object-oriented programming where a subclass provides its implementation of a method that is already present in its parent class."
   ]
  },
  {
   "cell_type": "code",
   "execution_count": 15,
   "id": "53ec81df",
   "metadata": {},
   "outputs": [
    {
     "name": "stdout",
     "output_type": "stream",
     "text": [
      "Animal is moving\n",
      "Dog is running\n"
     ]
    }
   ],
   "source": [
    "class Animal:\n",
    "    def move(self):\n",
    "        print(\"Animal is moving\")\n",
    "    \n",
    "class Dog(Animal):\n",
    "    def move(self):\n",
    "        print(\"Dog is running\")\n",
    "\n",
    "# creating objects\n",
    "animal = Animal()\n",
    "dog = Dog()\n",
    "\n",
    "animal.move()\n",
    "\n",
    "dog.move()\n"
   ]
  }
 ],
 "metadata": {
  "kernelspec": {
   "display_name": "Python 3 (ipykernel)",
   "language": "python",
   "name": "python3"
  },
  "language_info": {
   "codemirror_mode": {
    "name": "ipython",
    "version": 3
   },
   "file_extension": ".py",
   "mimetype": "text/x-python",
   "name": "python",
   "nbconvert_exporter": "python",
   "pygments_lexer": "ipython3",
   "version": "3.9.13"
  }
 },
 "nbformat": 4,
 "nbformat_minor": 5
}
