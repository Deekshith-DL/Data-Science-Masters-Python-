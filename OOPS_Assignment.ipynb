{
 "cells": [
  {
   "cell_type": "markdown",
   "id": "45b9d88e",
   "metadata": {},
   "source": [
    "**Q1. Explain Class and Object with respect to Object-Oriented Programming. Give a suitable example.**"
   ]
  },
  {
   "cell_type": "raw",
   "id": "ffaa0ea9",
   "metadata": {},
   "source": [
    "->. A class is a blueprint or a template for creating objects that defines the attributes (data) and behaviors (methods) of those objects.\n",
    "\n",
    "->. An object is an instance of a class, which has its own state (attribute values) and behavior (method implementations)."
   ]
  },
  {
   "cell_type": "code",
   "execution_count": 14,
   "id": "09482c7d",
   "metadata": {},
   "outputs": [],
   "source": [
    "class vehicle:\n",
    "    def __init__(self,Company,Type,Year,Color):\n",
    "        self.Company = Company\n",
    "        self.Type = Type\n",
    "        self.Year = Year\n",
    "        self.Color = Color\n",
    "        \n",
    "    def car(self):\n",
    "        print(\"Modern\") "
   ]
  },
  {
   "cell_type": "code",
   "execution_count": 15,
   "id": "7b233b1e",
   "metadata": {},
   "outputs": [
    {
     "name": "stdout",
     "output_type": "stream",
     "text": [
      "XUV\n"
     ]
    }
   ],
   "source": [
    "x = vehicle('Tata','XUV',2020,'Red')\n",
    "print(x.Type)"
   ]
  },
  {
   "cell_type": "code",
   "execution_count": 16,
   "id": "659aafae",
   "metadata": {},
   "outputs": [
    {
     "name": "stdout",
     "output_type": "stream",
     "text": [
      "Modern\n"
     ]
    }
   ],
   "source": [
    "x.car()"
   ]
  },
  {
   "cell_type": "markdown",
   "id": "27c0f156",
   "metadata": {},
   "source": [
    "**Q2. The four pillars of OOPs are:**"
   ]
  },
  {
   "cell_type": "raw",
   "id": "442aec3d",
   "metadata": {},
   "source": [
    "1.Abstraction: Hiding the implementation details of an object and exposing only the essential          features to the users.\n",
    "\n",
    "2.Encapsulation: Bundling the data (attributes) and methods (behaviors) of an object and restricting access to them from outside the object.\n",
    "\n",
    "3.Inheritance: Creating new classes by reusing (extending) the attributes and behaviors of existing classes.\n",
    "\n",
    "4.Polymorphism: The ability of objects of different classes to respond to the same message (method call)  in different ways."
   ]
  },
  {
   "cell_type": "markdown",
   "id": "b889d326",
   "metadata": {},
   "source": [
    "**Q3. Explain why the __init__() function is used. Give a suitable example.**"
   ]
  },
  {
   "cell_type": "raw",
   "id": "6d212c44",
   "metadata": {},
   "source": [
    " The __init__() function is used as a constructor in Python classes, and it is called automatically when an object of the class is created. It is used to initialize the attributes (state) of the object with the values passed as arguments."
   ]
  },
  {
   "cell_type": "code",
   "execution_count": 17,
   "id": "b84b5e86",
   "metadata": {},
   "outputs": [
    {
     "name": "stdout",
     "output_type": "stream",
     "text": [
      "Alice\n"
     ]
    }
   ],
   "source": [
    "class Person:\n",
    "    def __init__(self, name, age):\n",
    "        self.name = name\n",
    "        self.age = age\n",
    "\n",
    "person1 = Person(\"Alice\", 25)\n",
    "print(person1.name) \n"
   ]
  },
  {
   "cell_type": "markdown",
   "id": "b643c230",
   "metadata": {},
   "source": [
    "**Q4. Why self is used in OOPs?**"
   ]
  },
  {
   "cell_type": "raw",
   "id": "9bdd2b66",
   "metadata": {},
   "source": [
    " In OOPs, self is used to refer to the object itself inside the class methods. When a method is called on an object, Python automatically passes the object as the first argument to the method, which is referred to as self. This allows the method to access the attributes and methods of the object."
   ]
  },
  {
   "cell_type": "markdown",
   "id": "3dfe070f",
   "metadata": {},
   "source": [
    "**Q5. What is inheritance? Give an example for each type of inheritance.**"
   ]
  },
  {
   "cell_type": "raw",
   "id": "a5a36323",
   "metadata": {},
   "source": [
    "Inheritance is a mechanism in OOPs by which a new class is created by reusing the attributes and behaviors of an existing class. The new class is called the derived class or subclass, and the existing class is called the base class or superclass. \n",
    "     There are four types of inheritance in Python:"
   ]
  },
  {
   "cell_type": "raw",
   "id": "f7ee1594",
   "metadata": {},
   "source": [
    "1.Single inheritance: When a subclass inherits from only one base class."
   ]
  },
  {
   "cell_type": "code",
   "execution_count": 19,
   "id": "9d5ffd96",
   "metadata": {},
   "outputs": [
    {
     "name": "stdout",
     "output_type": "stream",
     "text": [
      "Fido\n"
     ]
    }
   ],
   "source": [
    "class Animal:\n",
    "    def __init__(self, name):\n",
    "        self.name = name\n",
    "\n",
    "class Dog(Animal):\n",
    "    def bark(self):\n",
    "        print(\"Woof!\")\n",
    "\n",
    "my_dog = Dog(\"Fido\")\n",
    "print(my_dog.name)  \n"
   ]
  },
  {
   "cell_type": "raw",
   "id": "bdb860a5",
   "metadata": {},
   "source": [
    "2.Multiple inheritance: When a subclass inherits from multiple base classes."
   ]
  },
  {
   "cell_type": "code",
   "execution_count": 18,
   "id": "9762039d",
   "metadata": {},
   "outputs": [
    {
     "name": "stdout",
     "output_type": "stream",
     "text": [
      "Hello, my name is Alice and I'm 35 years old.\n",
      "I'm working now.\n",
      "I'm managing the Marketing department.\n"
     ]
    }
   ],
   "source": [
    "class Person:\n",
    "    def __init__(self, name, age):\n",
    "        self.name = name\n",
    "        self.age = age\n",
    "    \n",
    "    def greet(self):\n",
    "        print(f\"Hello, my name is {self.name} and I'm {self.age} years old.\")\n",
    "\n",
    "class Employee:\n",
    "    def __init__(self, emp_id, salary):\n",
    "        self.emp_id = emp_id\n",
    "        self.salary = salary\n",
    "    \n",
    "    def work(self):\n",
    "        print(\"I'm working now.\")\n",
    "\n",
    "class Manager(Person, Employee):\n",
    "    def __init__(self, name, age, emp_id, salary, department):\n",
    "        Person.__init__(self, name, age)\n",
    "        Employee.__init__(self, emp_id, salary)\n",
    "        self.department = department\n",
    "    \n",
    "    def manage(self):\n",
    "        print(f\"I'm managing the {self.department} department.\")\n",
    "\n",
    "manager1 = Manager(\"Alice\", 35, 1234, 5000, \"Marketing\")\n",
    "manager1.greet()    \n",
    "manager1.work()     \n",
    "manager1.manage()   \n",
    "\n",
    "   \n"
   ]
  },
  {
   "cell_type": "raw",
   "id": "60ea4a45",
   "metadata": {},
   "source": [
    "3.Multi-level inheritance: A derived class is created by inheriting a base class, which in turn is created by inheriting another base class. In this way, the derived class inherits all the attributes and methods of both the base classes. This creates a hierarchy of classes where each class is derived from the previous one."
   ]
  },
  {
   "cell_type": "code",
   "execution_count": 20,
   "id": "2282944e",
   "metadata": {},
   "outputs": [
    {
     "name": "stdout",
     "output_type": "stream",
     "text": [
      "Rocky is eating\n",
      "Rocky is barking\n",
      "Rocky is guarding\n"
     ]
    }
   ],
   "source": [
    "class Animal:\n",
    "    def __init__(self, name):\n",
    "        self.name = name\n",
    "\n",
    "    def eat(self):\n",
    "        print(f\"{self.name} is eating\")\n",
    "\n",
    "class Dog(Animal):\n",
    "    def bark(self):\n",
    "        print(f\"{self.name} is barking\")\n",
    "\n",
    "class GermanShepherd(Dog):\n",
    "    def __init__(self, name):\n",
    "        super().__init__(name)\n",
    "\n",
    "    def guard(self):\n",
    "        print(f\"{self.name} is guarding\")\n",
    "\n",
    "gs = GermanShepherd(\"Rocky\")\n",
    "gs.eat()        \n",
    "gs.bark()       \n",
    "gs.guard()      \n"
   ]
  },
  {
   "cell_type": "raw",
   "id": "df28405f",
   "metadata": {},
   "source": [
    "4.Hierarchical inheritance: A derived class is created by inheriting from a single base class, but there are multiple derived classes that inherit from the same base class. This creates a hierarchy of classes where multiple classes are derived from the same base class."
   ]
  },
  {
   "cell_type": "code",
   "execution_count": 22,
   "id": "3dfd078d",
   "metadata": {},
   "outputs": [
    {
     "name": "stdout",
     "output_type": "stream",
     "text": [
      "Drawing a red circle with radius 5\n",
      "Drawing a blue rectangle with width 10 and height 3\n"
     ]
    }
   ],
   "source": [
    "class Shape:\n",
    "    def __init__(self, color):\n",
    "        self.color = color\n",
    "\n",
    "    def draw(self):\n",
    "        print(f\"Drawing a {self.color} shape\")\n",
    "\n",
    "class Circle(Shape):\n",
    "    def __init__(self, color, radius):\n",
    "        super().__init__(color)\n",
    "        self.radius = radius\n",
    "\n",
    "    def draw(self):\n",
    "        print(f\"Drawing a {self.color} circle with radius {self.radius}\")\n",
    "\n",
    "class Rectangle(Shape):\n",
    "    def __init__(self, color, width, height):\n",
    "        super().__init__(color)\n",
    "        self.width = width\n",
    "        self.height = height\n",
    "\n",
    "    def draw(self):\n",
    "        print(f\"Drawing a {self.color} rectangle with width {self.width} and height {self.height}\")\n",
    "\n",
    "c = Circle(\"red\", 5)\n",
    "r = Rectangle(\"blue\", 10, 3)\n",
    "\n",
    "c.draw()    \n",
    "r.draw()    \n"
   ]
  },
  {
   "cell_type": "code",
   "execution_count": null,
   "id": "d075c9f6",
   "metadata": {},
   "outputs": [],
   "source": []
  }
 ],
 "metadata": {
  "kernelspec": {
   "display_name": "Python 3 (ipykernel)",
   "language": "python",
   "name": "python3"
  },
  "language_info": {
   "codemirror_mode": {
    "name": "ipython",
    "version": 3
   },
   "file_extension": ".py",
   "mimetype": "text/x-python",
   "name": "python",
   "nbconvert_exporter": "python",
   "pygments_lexer": "ipython3",
   "version": "3.9.13"
  }
 },
 "nbformat": 4,
 "nbformat_minor": 5
}
