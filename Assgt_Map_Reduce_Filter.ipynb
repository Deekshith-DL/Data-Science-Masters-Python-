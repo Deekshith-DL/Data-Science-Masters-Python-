{
 "cells": [
  {
   "cell_type": "markdown",
   "id": "379b2088",
   "metadata": {},
   "source": [
    "**Q1. Create a python program to sort the given list of tuples based on integer value using a\n",
    "lambda function.**"
   ]
  },
  {
   "cell_type": "code",
   "execution_count": 2,
   "id": "21dd62a5",
   "metadata": {},
   "outputs": [],
   "source": [
    "my_list = [('Sachin Tendulkar', 34357), ('Ricky Ponting', 27483), \n",
    "           ('Jack Kallis', 25534), ('Virat Kohli', 24936)]\n",
    "\n",
    "sorted_list = sorted(my_list, key=lambda x: x[1], reverse=True)\n"
   ]
  },
  {
   "cell_type": "code",
   "execution_count": 3,
   "id": "39a0eb8d",
   "metadata": {},
   "outputs": [
    {
     "name": "stdout",
     "output_type": "stream",
     "text": [
      "[('Sachin Tendulkar', 34357), ('Ricky Ponting', 27483), ('Jack Kallis', 25534), ('Virat Kohli', 24936)]\n"
     ]
    }
   ],
   "source": [
    "print(sorted_list)"
   ]
  },
  {
   "cell_type": "markdown",
   "id": "5660675a",
   "metadata": {},
   "source": [
    "**Q2. Write a Python Program to find the squares of all the numbers in the given list of integers using\n",
    "lambda and map functions.\n",
    "[1, 2, 3, 4, 5, 6, 7, 8, 9, 10]**"
   ]
  },
  {
   "cell_type": "code",
   "execution_count": 4,
   "id": "21f0d630",
   "metadata": {},
   "outputs": [],
   "source": [
    "lst= [1, 2, 3, 4, 5, 6, 7, 8, 9, 10]"
   ]
  },
  {
   "cell_type": "code",
   "execution_count": 5,
   "id": "4441f022",
   "metadata": {},
   "outputs": [
    {
     "data": {
      "text/plain": [
       "[1, 4, 9, 16, 25, 36, 49, 64, 81, 100]"
      ]
     },
     "execution_count": 5,
     "metadata": {},
     "output_type": "execute_result"
    }
   ],
   "source": [
    "list(map(lambda x : x**2,lst))"
   ]
  },
  {
   "cell_type": "markdown",
   "id": "dcf0cf35",
   "metadata": {},
   "source": [
    "**Q3. Write a python program to convert the given list of integers into a tuple of strings. Use map and\n",
    "lambda functions\n",
    "Given String: [1, 2, 3, 4, 5, 6, 7, 8, 9, 10]\n",
    "Expected output: ('1', '2', '3', '4', '5', '6', '7', '8', '9', '10')**"
   ]
  },
  {
   "cell_type": "code",
   "execution_count": 6,
   "id": "cedf5293",
   "metadata": {},
   "outputs": [],
   "source": [
    "lst1= [1, 2, 3, 4, 5, 6, 7, 8, 9, 10] "
   ]
  },
  {
   "cell_type": "code",
   "execution_count": 8,
   "id": "5b454c08",
   "metadata": {},
   "outputs": [
    {
     "data": {
      "text/plain": [
       "('1', '2', '3', '4', '5', '6', '7', '8', '9', '10')"
      ]
     },
     "execution_count": 8,
     "metadata": {},
     "output_type": "execute_result"
    }
   ],
   "source": [
    "tuple(map(lambda x: str(x) ,lst1))"
   ]
  },
  {
   "cell_type": "markdown",
   "id": "52a5465b",
   "metadata": {},
   "source": [
    "**Q4. Write a python program using reduce function to compute the product of a list containing numbers\n",
    "from 1 to 25.**"
   ]
  },
  {
   "cell_type": "code",
   "execution_count": 10,
   "id": "56ce9f1e",
   "metadata": {},
   "outputs": [],
   "source": [
    "from functools import reduce"
   ]
  },
  {
   "cell_type": "code",
   "execution_count": 14,
   "id": "1373550d",
   "metadata": {},
   "outputs": [],
   "source": [
    "lst= list(range(1,26))"
   ]
  },
  {
   "cell_type": "code",
   "execution_count": 19,
   "id": "e243ed48",
   "metadata": {},
   "outputs": [],
   "source": [
    "product= reduce(lambda x,y : x*y , lst )"
   ]
  },
  {
   "cell_type": "code",
   "execution_count": 20,
   "id": "fd1fd55e",
   "metadata": {},
   "outputs": [
    {
     "name": "stdout",
     "output_type": "stream",
     "text": [
      "15511210043330985984000000\n"
     ]
    }
   ],
   "source": [
    "print(product)"
   ]
  },
  {
   "cell_type": "markdown",
   "id": "3a6005f3",
   "metadata": {},
   "source": [
    "**Q5. Write a python program to filter the numbers in a given list that are divisible by 2 and 3 using the\n",
    "filter function.\n",
    "[2, 3, 6, 9, 27, 60, 90, 120, 55, 46]**"
   ]
  },
  {
   "cell_type": "code",
   "execution_count": 21,
   "id": "fdae5905",
   "metadata": {},
   "outputs": [],
   "source": [
    "lst2= [2, 3, 6, 9, 27, 60, 90, 120, 55, 46]"
   ]
  },
  {
   "cell_type": "code",
   "execution_count": 26,
   "id": "1dbd906a",
   "metadata": {},
   "outputs": [
    {
     "data": {
      "text/plain": [
       "[6, 60, 90, 120]"
      ]
     },
     "execution_count": 26,
     "metadata": {},
     "output_type": "execute_result"
    }
   ],
   "source": [
    "list(filter(lambda x : x%2 ==0 and x%3==0, lst2))"
   ]
  },
  {
   "cell_type": "markdown",
   "id": "4061632e",
   "metadata": {},
   "source": [
    "**Q6. Write a python program to find palindromes in the given list of strings using lambda and filter\n",
    "function.\n",
    "['python', 'php', 'aba', 'radar', 'level']**"
   ]
  },
  {
   "cell_type": "code",
   "execution_count": 31,
   "id": "8949efd4",
   "metadata": {},
   "outputs": [],
   "source": [
    "lst3=['python', 'php','Perl' ,'aba', 'radar', 'level','Java']"
   ]
  },
  {
   "cell_type": "code",
   "execution_count": 32,
   "id": "a6582e4d",
   "metadata": {},
   "outputs": [
    {
     "data": {
      "text/plain": [
       "['php', 'aba', 'radar', 'level']"
      ]
     },
     "execution_count": 32,
     "metadata": {},
     "output_type": "execute_result"
    }
   ],
   "source": [
    "list(filter(lambda x: x==x[::-1], lst3))"
   ]
  }
 ],
 "metadata": {
  "kernelspec": {
   "display_name": "Python 3 (ipykernel)",
   "language": "python",
   "name": "python3"
  },
  "language_info": {
   "codemirror_mode": {
    "name": "ipython",
    "version": 3
   },
   "file_extension": ".py",
   "mimetype": "text/x-python",
   "name": "python",
   "nbconvert_exporter": "python",
   "pygments_lexer": "ipython3",
   "version": "3.9.13"
  }
 },
 "nbformat": 4,
 "nbformat_minor": 5
}
