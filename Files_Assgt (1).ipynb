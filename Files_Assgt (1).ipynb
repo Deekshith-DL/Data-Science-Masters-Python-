{
 "cells": [
  {
   "cell_type": "markdown",
   "id": "afe427e3",
   "metadata": {},
   "source": [
    "# Files"
   ]
  },
  {
   "cell_type": "markdown",
   "id": "40266bcc",
   "metadata": {},
   "source": [
    "1. In Python, the open() function is used to open a file. The open() function takes two parameters: the file name and the mode in which to open the file. The different modes of opening a file are:\n",
    "\n",
    "- 'r': Open the file for reading (default).\n",
    "- 'w': Open the file for writing. If the file already exists, its contents are truncated. If the file does not exist, a new file is created.\n",
    "'a': Open the file for appending. The new data being written will be added at the end of the file.\n",
    "'b': Open the file in binary mode.\n",
    "'t': Open the file in text mode (default).\n",
    "'+': Open the file for reading and writing."
   ]
  },
  {
   "cell_type": "markdown",
   "id": "8731b44c",
   "metadata": {},
   "source": [
    "2. The close() function is used to close an opened file. It is important to close a file after performing operations on it because it frees up system resources associated with the file. Failing to close a file can lead to resource leaks and may also prevent other programs from accessing the file."
   ]
  },
  {
   "cell_type": "markdown",
   "id": "54b5b762",
   "metadata": {},
   "source": [
    "3. Python program to create a text file, write a sentence in it, and then read the content of the file:"
   ]
  },
  {
   "cell_type": "code",
   "execution_count": 3,
   "id": "07544b83",
   "metadata": {},
   "outputs": [
    {
     "name": "stdout",
     "output_type": "stream",
     "text": [
      "I want to become a Data Scientist\n"
     ]
    }
   ],
   "source": [
    "# Create a text file and write a sentence\n",
    "with open('data.txt', 'w') as file:\n",
    "    file.write('I want to become a Data Scientist')\n",
    "    file.close()\n",
    "\n",
    "# Open the file and read its content\n",
    "with open('data.txt', 'r') as file:\n",
    "    content = file.read()\n",
    "    print(content)"
   ]
  },
  {
   "cell_type": "markdown",
   "id": "97c85a56",
   "metadata": {},
   "source": [
    "4. Explanation of `read()`, `readline()`, and `readlines()`:"
   ]
  },
  {
   "cell_type": "markdown",
   "id": "5fe96251",
   "metadata": {},
   "source": [
    "- `read()`: Reads the entire content of the file and returns it as a single string.\n",
    "- `readline()`: Reads a single line from the file.\n",
    "- `readlines()`: Reads all lines from the file and returns them as a list of strings, where each string represents a line in the file."
   ]
  },
  {
   "cell_type": "code",
   "execution_count": 4,
   "id": "c3771f57",
   "metadata": {},
   "outputs": [
    {
     "name": "stdout",
     "output_type": "stream",
     "text": [
      "I want to become a Data Scientist\n",
      "I want to become a Data Scientist\n",
      "['I want to become a Data Scientist']\n"
     ]
    }
   ],
   "source": [
    "with open('data.txt', 'r') as file:\n",
    "    content = file.read()  # Read the entire content\n",
    "    print(content)\n",
    "\n",
    "    file.seek(0)  # Reset file pointer to the beginning\n",
    "\n",
    "    line = file.readline()  # Read a single line\n",
    "    print(line)\n",
    "\n",
    "    file.seek(0)  # Reset file pointer to the beginning\n",
    "\n",
    "    lines = file.readlines()  # Read all lines and store them in a list\n",
    "    print(lines)"
   ]
  },
  {
   "cell_type": "markdown",
   "id": "d4aa0e7b",
   "metadata": {},
   "source": [
    "5. The `with` statement is used with `open()` to ensure that the file is properly closed after its suite finishes executing. The advantage of using `with` statement with `open()` is that it automatically handles the closing of the file, even if an exception occurs within the `with` block. This ensures that resources are properly released and prevents potential resource leaks."
   ]
  },
  {
   "cell_type": "markdown",
   "id": "60f05751",
   "metadata": {},
   "source": [
    "6. Explanation of `write()` and `writelines()` functions:\n",
    "\n",
    "- `write()`: Writes the specified string to the file.\n",
    "- `writelines()`: Writes a list of strings to the file.\n"
   ]
  },
  {
   "cell_type": "code",
   "execution_count": 6,
   "id": "4208b5cd",
   "metadata": {},
   "outputs": [],
   "source": [
    "lines = ['Line 1\\n', 'Line 2\\n', 'Line 3\\n']\n",
    "\n",
    "\n",
    "with open('output.txt', 'w') as file:\n",
    "    file.write(\"Hello, world!\\n\") \n",
    "    file.write(\"This is a test\\n\")\n",
    "\n",
    "\n",
    "with open('output.txt', 'a') as file:\n",
    "    file.writelines(lines) "
   ]
  },
  {
   "cell_type": "code",
   "execution_count": null,
   "id": "a0dd01ee",
   "metadata": {},
   "outputs": [],
   "source": [
    "Hello, world!\n",
    "This is a test\n",
    "Line 1\n",
    "Line 2\n",
    "Line 3"
   ]
  }
 ],
 "metadata": {
  "kernelspec": {
   "display_name": "Python 3 (ipykernel)",
   "language": "python",
   "name": "python3"
  },
  "language_info": {
   "codemirror_mode": {
    "name": "ipython",
    "version": 3
   },
   "file_extension": ".py",
   "mimetype": "text/x-python",
   "name": "python",
   "nbconvert_exporter": "python",
   "pygments_lexer": "ipython3",
   "version": "3.9.13"
  }
 },
 "nbformat": 4,
 "nbformat_minor": 5
}
